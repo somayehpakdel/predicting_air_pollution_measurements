{
  "nbformat": 4,
  "nbformat_minor": 0,
  "metadata": {
    "colab": {
      "provenance": []
    },
    "kernelspec": {
      "name": "python3",
      "display_name": "Python 3"
    },
    "language_info": {
      "name": "python"
    }
  },
  "cells": [
    {
      "cell_type": "markdown",
      "source": [
        "##Downloading Dataset From Kaggle And Copy it to GoogleDrive"
      ],
      "metadata": {
        "id": "y1c0Cw-Gnj3o"
      }
    },
    {
      "cell_type": "code",
      "execution_count": null,
      "metadata": {
        "id": "1UarrqWfmtKE"
      },
      "outputs": [],
      "source": [
        "!pip install opendatasets"
      ]
    },
    {
      "cell_type": "code",
      "source": [
        "import opendatasets as od\n",
        "import pandas\n",
        "od.download('https://www.kaggle.com/competitions/tabular-playground-series-jul-2021/data')"
      ],
      "metadata": {
        "colab": {
          "base_uri": "https://localhost:8080/"
        },
        "id": "7aefBfAgnLNb",
        "outputId": "5fe9b07f-305d-46a4-f0e9-916512e3278a"
      },
      "execution_count": null,
      "outputs": [
        {
          "output_type": "stream",
          "name": "stdout",
          "text": [
            "Please provide your Kaggle credentials to download this dataset. Learn more: http://bit.ly/kaggle-creds\n",
            "Your Kaggle username: pakdel1991\n",
            "Your Kaggle Key: ··········\n",
            "Downloading tabular-playground-series-jul-2021.zip to ./tabular-playground-series-jul-2021\n"
          ]
        },
        {
          "output_type": "stream",
          "name": "stderr",
          "text": [
            "100%|██████████| 264k/264k [00:00<00:00, 17.7MB/s]"
          ]
        },
        {
          "output_type": "stream",
          "name": "stdout",
          "text": [
            "\n",
            "Extracting archive ./tabular-playground-series-jul-2021/tabular-playground-series-jul-2021.zip to ./tabular-playground-series-jul-2021\n"
          ]
        },
        {
          "output_type": "stream",
          "name": "stderr",
          "text": [
            "\n"
          ]
        }
      ]
    },
    {
      "cell_type": "code",
      "source": [
        "%cp -r /content/tabular-playground-series-jul-2021 /content/drive/MyDrive/Datasets/Kaggle-Datasets"
      ],
      "metadata": {
        "id": "ODZJFD_On_s3"
      },
      "execution_count": null,
      "outputs": []
    },
    {
      "cell_type": "markdown",
      "source": [
        "# OOP"
      ],
      "metadata": {
        "id": "juhNs5rTvWPd"
      }
    },
    {
      "cell_type": "code",
      "source": [
        "! [ -e /content ] && pip install -Uqq fastbook rfpimp\n",
        "import fastbook\n",
        "fastbook.setup_book()"
      ],
      "metadata": {
        "id": "oPb2qnAtvU5O",
        "colab": {
          "base_uri": "https://localhost:8080/"
        },
        "outputId": "78ecc65c-1acf-44b6-9d60-d3851d764ed8"
      },
      "execution_count": null,
      "outputs": [
        {
          "output_type": "stream",
          "name": "stdout",
          "text": [
            "\u001b[?25l     \u001b[90m━━━━━━━━━━━━━━━━━━━━━━━━━━━━━━━━━━━━━━━━\u001b[0m \u001b[32m0.0/719.8 KB\u001b[0m \u001b[31m?\u001b[0m eta \u001b[36m-:--:--\u001b[0m\r\u001b[2K     \u001b[91m━━━━━━━━━━━━\u001b[0m\u001b[91m╸\u001b[0m\u001b[90m━━━━━━━━━━━━━━━━━━━━━━━━━━\u001b[0m \u001b[32m235.5/719.8 KB\u001b[0m \u001b[31m7.1 MB/s\u001b[0m eta \u001b[36m0:00:01\u001b[0m\r\u001b[2K     \u001b[90m━━━━━━━━━━━━━━━━━━━━━━━━━━━━━━━━━━━━━━\u001b[0m \u001b[32m719.8/719.8 KB\u001b[0m \u001b[31m11.2 MB/s\u001b[0m eta \u001b[36m0:00:00\u001b[0m\n",
            "\u001b[?25h  Preparing metadata (setup.py) ... \u001b[?25l\u001b[?25hdone\n",
            "\u001b[2K     \u001b[90m━━━━━━━━━━━━━━━━━━━━━━━━━━━━━━━━━━━━━━━━\u001b[0m \u001b[32m6.3/6.3 MB\u001b[0m \u001b[31m77.5 MB/s\u001b[0m eta \u001b[36m0:00:00\u001b[0m\n",
            "\u001b[2K     \u001b[90m━━━━━━━━━━━━━━━━━━━━━━━━━━━━━━━━━━━━━━\u001b[0m \u001b[32m469.0/469.0 KB\u001b[0m \u001b[31m33.5 MB/s\u001b[0m eta \u001b[36m0:00:00\u001b[0m\n",
            "\u001b[2K     \u001b[90m━━━━━━━━━━━━━━━━━━━━━━━━━━━━━━━━━━━━━━━━\u001b[0m \u001b[32m1.3/1.3 MB\u001b[0m \u001b[31m47.1 MB/s\u001b[0m eta \u001b[36m0:00:00\u001b[0m\n",
            "\u001b[2K     \u001b[90m━━━━━━━━━━━━━━━━━━━━━━━━━━━━━━━━━━━━━━\u001b[0m \u001b[32m213.0/213.0 KB\u001b[0m \u001b[31m24.6 MB/s\u001b[0m eta \u001b[36m0:00:00\u001b[0m\n",
            "\u001b[2K     \u001b[90m━━━━━━━━━━━━━━━━━━━━━━━━━━━━━━━━━━━━━━\u001b[0m \u001b[32m132.0/132.0 KB\u001b[0m \u001b[31m16.1 MB/s\u001b[0m eta \u001b[36m0:00:00\u001b[0m\n",
            "\u001b[2K     \u001b[90m━━━━━━━━━━━━━━━━━━━━━━━━━━━━━━━━━━━━━━\u001b[0m \u001b[32m190.3/190.3 KB\u001b[0m \u001b[31m19.1 MB/s\u001b[0m eta \u001b[36m0:00:00\u001b[0m\n",
            "\u001b[2K     \u001b[90m━━━━━━━━━━━━━━━━━━━━━━━━━━━━━━━━━━━━━━━━\u001b[0m \u001b[32m7.6/7.6 MB\u001b[0m \u001b[31m89.9 MB/s\u001b[0m eta \u001b[36m0:00:00\u001b[0m\n",
            "\u001b[2K     \u001b[90m━━━━━━━━━━━━━━━━━━━━━━━━━━━━━━━━━━━━━━━━\u001b[0m \u001b[32m1.6/1.6 MB\u001b[0m \u001b[31m48.4 MB/s\u001b[0m eta \u001b[36m0:00:00\u001b[0m\n",
            "\u001b[2K     \u001b[90m━━━━━━━━━━━━━━━━━━━━━━━━━━━━━━━━━━━━━━\u001b[0m \u001b[32m140.6/140.6 KB\u001b[0m \u001b[31m13.6 MB/s\u001b[0m eta \u001b[36m0:00:00\u001b[0m\n",
            "\u001b[?25h  Building wheel for rfpimp (setup.py) ... \u001b[?25l\u001b[?25hdone\n",
            "Mounted at /content/gdrive\n"
          ]
        }
      ]
    },
    {
      "cell_type": "code",
      "source": [
        "from fastbook import *\n",
        "import pathlib\n",
        "from fastai.tabular.all import *"
      ],
      "metadata": {
        "id": "0IAI_q_axRgh"
      },
      "execution_count": null,
      "outputs": []
    },
    {
      "cell_type": "markdown",
      "source": [
        "## Reading and Prepairing Data"
      ],
      "metadata": {
        "id": "1_LKFxPaypzg"
      }
    },
    {
      "cell_type": "code",
      "source": [
        "path=pathlib.Path('/content/gdrive/MyDrive/Datasets/Kaggle-Datasets/tabular-playground-series-jul-2021')\n",
        "df=pd.read_csv(path/'train.csv')\n",
        "df_test=pd.read_csv(path/'test.csv')\n",
        "print(df.columns)\n",
        "print('Test columns',df_test.columns)"
      ],
      "metadata": {
        "colab": {
          "base_uri": "https://localhost:8080/"
        },
        "id": "LeLYf6LhySnh",
        "outputId": "93dfee20-7f47-450a-cd7f-9c4acdac9b27"
      },
      "execution_count": null,
      "outputs": [
        {
          "output_type": "stream",
          "name": "stdout",
          "text": [
            "Index(['date_time', 'deg_C', 'relative_humidity', 'absolute_humidity',\n",
            "       'sensor_1', 'sensor_2', 'sensor_3', 'sensor_4', 'sensor_5',\n",
            "       'target_carbon_monoxide', 'target_benzene', 'target_nitrogen_oxides'],\n",
            "      dtype='object')\n",
            "Test columns Index(['date_time', 'deg_C', 'relative_humidity', 'absolute_humidity',\n",
            "       'sensor_1', 'sensor_2', 'sensor_3', 'sensor_4', 'sensor_5'],\n",
            "      dtype='object')\n"
          ]
        }
      ]
    },
    {
      "cell_type": "code",
      "source": [
        "dep_var='target_carbon_monoxide'\n",
        "df[dep_var]=np.log(df[dep_var]+1)\n",
        "df=add_datepart(df,'date_time')\n",
        "df_test=add_datepart(df_test,'date_time')\n",
        "df=df.drop(['target_benzene','target_nitrogen_oxides'],axis=1)\n",
        "print(df.columns)"
      ],
      "metadata": {
        "colab": {
          "base_uri": "https://localhost:8080/"
        },
        "id": "rIA1qu6iy4qU",
        "outputId": "2c04826a-30a4-480e-c5ac-e492ba2772e8"
      },
      "execution_count": null,
      "outputs": [
        {
          "output_type": "stream",
          "name": "stdout",
          "text": [
            "Index(['deg_C', 'relative_humidity', 'absolute_humidity', 'sensor_1',\n",
            "       'sensor_2', 'sensor_3', 'sensor_4', 'sensor_5',\n",
            "       'target_carbon_monoxide', 'date_timeYear', 'date_timeMonth',\n",
            "       'date_timeWeek', 'date_timeDay', 'date_timeDayofweek',\n",
            "       'date_timeDayofyear', 'date_timeIs_month_end',\n",
            "       'date_timeIs_month_start', 'date_timeIs_quarter_end',\n",
            "       'date_timeIs_quarter_start', 'date_timeIs_year_end',\n",
            "       'date_timeIs_year_start', 'date_timeElapsed'],\n",
            "      dtype='object')\n"
          ]
        }
      ]
    },
    {
      "cell_type": "code",
      "source": [
        "cond=(df.date_timeYear==2010) & (df.date_timeMonth<12)\n",
        "train_idx=np.where( cond)[0]\n",
        "valid_idx=np.where(~cond)[0]\n",
        "splist=(list(train_idx),list(valid_idx))\n",
        "cont,cat=cont_cat_split(df,100,dep_var)\n",
        "procs=[Categorify,FillMissing,Normalize]\n",
        "to=TabularPandas(df,procs,cat, cont,y_names=dep_var,splits=splist,y_block=RegressionBlock())\n",
        "xs,y=to.train.xs,to.train.y.ravel()\n",
        "valid_xs,valid_y=to.valid.xs,to.valid.y.ravel()\n",
        "len(y),len(valid_y)"
      ],
      "metadata": {
        "colab": {
          "base_uri": "https://localhost:8080/"
        },
        "id": "wwLbIGEV0ejf",
        "outputId": "20d5c8de-51b1-4277-9380-7c6231c26ca1"
      },
      "execution_count": null,
      "outputs": [
        {
          "output_type": "execute_result",
          "data": {
            "text/plain": [
              "(6366, 745)"
            ]
          },
          "metadata": {},
          "execution_count": 6
        }
      ]
    },
    {
      "cell_type": "code",
      "source": [
        "print(df.nunique())\n",
        "df.isnull().sum()"
      ],
      "metadata": {
        "id": "Du2n5O-KaOfP",
        "colab": {
          "base_uri": "https://localhost:8080/"
        },
        "outputId": "67cf27d4-4c04-4509-e156-108c6fbc43dd"
      },
      "execution_count": null,
      "outputs": [
        {
          "output_type": "stream",
          "name": "stdout",
          "text": [
            "deg_C                         408\n",
            "relative_humidity             762\n",
            "absolute_humidity            5451\n",
            "sensor_1                     3882\n",
            "sensor_2                     4254\n",
            "sensor_3                     4251\n",
            "sensor_4                     4655\n",
            "sensor_5                     4839\n",
            "target_carbon_monoxide         95\n",
            "date_timeYear                   2\n",
            "date_timeMonth                 11\n",
            "date_timeWeek                  43\n",
            "date_timeDay                   31\n",
            "date_timeDayofweek              7\n",
            "date_timeDayofyear            298\n",
            "date_timeIs_month_end           2\n",
            "date_timeIs_month_start         2\n",
            "date_timeIs_quarter_end         2\n",
            "date_timeIs_quarter_start       2\n",
            "date_timeIs_year_end            2\n",
            "date_timeIs_year_start          2\n",
            "date_timeElapsed             7111\n",
            "dtype: int64\n"
          ]
        },
        {
          "output_type": "execute_result",
          "data": {
            "text/plain": [
              "deg_C                        0\n",
              "relative_humidity            0\n",
              "absolute_humidity            0\n",
              "sensor_1                     0\n",
              "sensor_2                     0\n",
              "sensor_3                     0\n",
              "sensor_4                     0\n",
              "sensor_5                     0\n",
              "target_carbon_monoxide       0\n",
              "date_timeYear                0\n",
              "date_timeMonth               0\n",
              "date_timeWeek                0\n",
              "date_timeDay                 0\n",
              "date_timeDayofweek           0\n",
              "date_timeDayofyear           0\n",
              "date_timeIs_month_end        0\n",
              "date_timeIs_month_start      0\n",
              "date_timeIs_quarter_end      0\n",
              "date_timeIs_quarter_start    0\n",
              "date_timeIs_year_end         0\n",
              "date_timeIs_year_start       0\n",
              "date_timeElapsed             0\n",
              "dtype: int64"
            ]
          },
          "metadata": {},
          "execution_count": 8
        }
      ]
    },
    {
      "cell_type": "code",
      "source": [
        "to.classes"
      ],
      "metadata": {
        "id": "x5dYq8M7ZNkF"
      },
      "execution_count": null,
      "outputs": []
    },
    {
      "cell_type": "code",
      "source": [
        "to.items.head()"
      ],
      "metadata": {
        "id": "gklVz2ho2fGY"
      },
      "execution_count": null,
      "outputs": []
    },
    {
      "cell_type": "markdown",
      "source": [
        "##Modeling and Predicting"
      ],
      "metadata": {
        "id": "ICE3NmX4lyD0"
      }
    },
    {
      "cell_type": "code",
      "source": [
        "%cd /content/gdrive/MyDrive/Datasets/Kaggle-Datasets/tabular-playground-series-jul-2021/Project_fastai"
      ],
      "metadata": {
        "colab": {
          "base_uri": "https://localhost:8080/"
        },
        "id": "6E7k6GoG2_OK",
        "outputId": "bc288c77-87b2-4f0c-a5d5-922d17a0956c"
      },
      "execution_count": null,
      "outputs": [
        {
          "output_type": "stream",
          "name": "stdout",
          "text": [
            "/content/gdrive/MyDrive/Datasets/Kaggle-Datasets/tabular-playground-series-jul-2021/Project_fastai\n"
          ]
        }
      ]
    },
    {
      "cell_type": "markdown",
      "source": [
        "### RandomForest"
      ],
      "metadata": {
        "id": "bd8_DxrlyDIb"
      }
    },
    {
      "cell_type": "code",
      "source": [
        "m1=Randomforest(n_estimators=40, min_samples_leaf=15,\n",
        "        max_samples=1500, max_features=0.5, n_jobs=-1, oob_score=True)\n",
        "forest_preds=implement(m1,to)\n",
        "m1.importance(valid_xs,to.valid.y)"
      ],
      "metadata": {
        "colab": {
          "base_uri": "https://localhost:8080/",
          "height": 536
        },
        "id": "vZpfnJ1H37mN",
        "outputId": "3fe1236a-184e-4560-a9b7-98aa8b8b1702"
      },
      "execution_count": null,
      "outputs": [
        {
          "output_type": "stream",
          "name": "stdout",
          "text": [
            "train>>>\n",
            "mse:   0.116533\n",
            "accuracy:   0.883467\n",
            "valid>>>\n",
            "mse:   0.289859\n",
            "accuracy:   0.710141\n"
          ]
        },
        {
          "output_type": "execute_result",
          "data": {
            "text/plain": [
              "<rfpimp.PimpViz at 0x7f5a714de310>"
            ],
            "image/svg+xml": "<?xml version=\"1.0\" encoding=\"utf-8\" standalone=\"no\"?>\n<!DOCTYPE svg PUBLIC \"-//W3C//DTD SVG 1.1//EN\"\n  \"http://www.w3.org/Graphics/SVG/1.1/DTD/svg11.dtd\">\n<!-- Created with matplotlib (https://matplotlib.org/) -->\n<svg height=\"307.838125pt\" version=\"1.1\" viewBox=\"0 0 262.350313 307.838125\" width=\"262.350313pt\" xmlns=\"http://www.w3.org/2000/svg\" xmlns:xlink=\"http://www.w3.org/1999/xlink\">\n <defs>\n  <style type=\"text/css\">\n*{stroke-linecap:butt;stroke-linejoin:round;}\n  </style>\n </defs>\n <g id=\"figure_1\">\n  <g id=\"patch_1\">\n   <path d=\"M 0 307.838125 \nL 262.350313 307.838125 \nL 262.350313 0 \nL 0 0 \nz\n\" style=\"fill:#ffffff;\"/>\n  </g>\n  <g id=\"axes_1\">\n   <g id=\"patch_2\">\n    <path d=\"M 135.7 291.16 \nL 251.2175 291.16 \nL 251.2175 0 \nL 135.7 0 \nz\n\" style=\"fill:#ffffff;\"/>\n   </g>\n   <g id=\"patch_3\">\n    <path clip-path=\"url(#pd3c4cdd613)\" d=\"M 136.341048 1.255 \nL 250.752733 1.255 \nL 250.752733 13.805 \nL 136.341048 13.805 \nz\n\" style=\"fill:#d9e6f5;stroke:#444443;stroke-linejoin:miter;stroke-width:0.5;\"/>\n   </g>\n   <g id=\"patch_4\">\n    <path clip-path=\"url(#pd3c4cdd613)\" d=\"M 136.341048 15.06 \nL 182.648188 15.06 \nL 182.648188 27.61 \nL 136.341048 27.61 \nz\n\" style=\"fill:#d9e6f5;stroke:#444443;stroke-linejoin:miter;stroke-width:0.5;\"/>\n   </g>\n   <g id=\"patch_5\">\n    <path clip-path=\"url(#pd3c4cdd613)\" d=\"M 136.341048 28.865 \nL 152.545232 28.865 \nL 152.545232 41.415 \nL 136.341048 41.415 \nz\n\" style=\"fill:#d9e6f5;stroke:#444443;stroke-linejoin:miter;stroke-width:0.5;\"/>\n   </g>\n   <g id=\"patch_6\">\n    <path clip-path=\"url(#pd3c4cdd613)\" d=\"M 136.341048 42.67 \nL 148.496341 42.67 \nL 148.496341 55.22 \nL 136.341048 55.22 \nz\n\" style=\"fill:#d9e6f5;stroke:#444443;stroke-linejoin:miter;stroke-width:0.5;\"/>\n   </g>\n   <g id=\"patch_7\">\n    <path clip-path=\"url(#pd3c4cdd613)\" d=\"M 136.341048 56.475 \nL 140.147256 56.475 \nL 140.147256 69.025 \nL 136.341048 69.025 \nz\n\" style=\"fill:#d9e6f5;stroke:#444443;stroke-linejoin:miter;stroke-width:0.5;\"/>\n   </g>\n   <g id=\"patch_8\">\n    <path clip-path=\"url(#pd3c4cdd613)\" d=\"M 136.341048 70.28 \nL 139.547732 70.28 \nL 139.547732 82.83 \nL 136.341048 82.83 \nz\n\" style=\"fill:#d9e6f5;stroke:#444443;stroke-linejoin:miter;stroke-width:0.5;\"/>\n   </g>\n   <g id=\"patch_9\">\n    <path clip-path=\"url(#pd3c4cdd613)\" d=\"M 136.341048 84.085 \nL 139.010389 84.085 \nL 139.010389 96.635 \nL 136.341048 96.635 \nz\n\" style=\"fill:#d9e6f5;stroke:#444443;stroke-linejoin:miter;stroke-width:0.5;\"/>\n   </g>\n   <g id=\"patch_10\">\n    <path clip-path=\"url(#pd3c4cdd613)\" d=\"M 136.341048 97.89 \nL 136.93125 97.89 \nL 136.93125 110.44 \nL 136.341048 110.44 \nz\n\" style=\"fill:#d9e6f5;stroke:#444443;stroke-linejoin:miter;stroke-width:0.5;\"/>\n   </g>\n   <g id=\"patch_11\">\n    <path clip-path=\"url(#pd3c4cdd613)\" d=\"M 136.341048 111.695 \nL 136.582832 111.695 \nL 136.582832 124.245 \nL 136.341048 124.245 \nz\n\" style=\"fill:#d9e6f5;stroke:#444443;stroke-linejoin:miter;stroke-width:0.5;\"/>\n   </g>\n   <g id=\"patch_12\">\n    <path clip-path=\"url(#pd3c4cdd613)\" d=\"M 136.341048 125.5 \nL 136.553598 125.5 \nL 136.553598 138.05 \nL 136.341048 138.05 \nz\n\" style=\"fill:#d9e6f5;stroke:#444443;stroke-linejoin:miter;stroke-width:0.5;\"/>\n   </g>\n   <g id=\"patch_13\">\n    <path clip-path=\"url(#pd3c4cdd613)\" d=\"M 136.341048 139.305 \nL 136.347254 139.305 \nL 136.347254 151.855 \nL 136.341048 151.855 \nz\n\" style=\"fill:#d9e6f5;stroke:#444443;stroke-linejoin:miter;stroke-width:0.5;\"/>\n   </g>\n   <g id=\"patch_14\">\n    <path clip-path=\"url(#pd3c4cdd613)\" d=\"M 136.341048 153.11 \nL 136.341048 153.11 \nL 136.341048 165.66 \nL 136.341048 165.66 \nz\n\" style=\"fill:#d9e6f5;stroke:#444443;stroke-linejoin:miter;stroke-width:0.5;\"/>\n   </g>\n   <g id=\"patch_15\">\n    <path clip-path=\"url(#pd3c4cdd613)\" d=\"M 136.341048 166.915 \nL 136.341048 166.915 \nL 136.341048 179.465 \nL 136.341048 179.465 \nz\n\" style=\"fill:#d9e6f5;stroke:#444443;stroke-linejoin:miter;stroke-width:0.5;\"/>\n   </g>\n   <g id=\"patch_16\">\n    <path clip-path=\"url(#pd3c4cdd613)\" d=\"M 136.341048 180.72 \nL 136.341048 180.72 \nL 136.341048 193.27 \nL 136.341048 193.27 \nz\n\" style=\"fill:#d9e6f5;stroke:#444443;stroke-linejoin:miter;stroke-width:0.5;\"/>\n   </g>\n   <g id=\"patch_17\">\n    <path clip-path=\"url(#pd3c4cdd613)\" d=\"M 136.341048 194.525 \nL 136.341048 194.525 \nL 136.341048 207.075 \nL 136.341048 207.075 \nz\n\" style=\"fill:#d9e6f5;stroke:#444443;stroke-linejoin:miter;stroke-width:0.5;\"/>\n   </g>\n   <g id=\"patch_18\">\n    <path clip-path=\"url(#pd3c4cdd613)\" d=\"M 136.341048 208.33 \nL 136.341048 208.33 \nL 136.341048 220.88 \nL 136.341048 220.88 \nz\n\" style=\"fill:#d9e6f5;stroke:#444443;stroke-linejoin:miter;stroke-width:0.5;\"/>\n   </g>\n   <g id=\"patch_19\">\n    <path clip-path=\"url(#pd3c4cdd613)\" d=\"M 136.341048 222.135 \nL 136.341048 222.135 \nL 136.341048 234.685 \nL 136.341048 234.685 \nz\n\" style=\"fill:#d9e6f5;stroke:#444443;stroke-linejoin:miter;stroke-width:0.5;\"/>\n   </g>\n   <g id=\"patch_20\">\n    <path clip-path=\"url(#pd3c4cdd613)\" d=\"M 136.341048 235.94 \nL 136.341048 235.94 \nL 136.341048 248.49 \nL 136.341048 248.49 \nz\n\" style=\"fill:#d9e6f5;stroke:#444443;stroke-linejoin:miter;stroke-width:0.5;\"/>\n   </g>\n   <g id=\"patch_21\">\n    <path clip-path=\"url(#pd3c4cdd613)\" d=\"M 136.341048 249.745 \nL 136.341048 249.745 \nL 136.341048 262.295 \nL 136.341048 262.295 \nz\n\" style=\"fill:#d9e6f5;stroke:#444443;stroke-linejoin:miter;stroke-width:0.5;\"/>\n   </g>\n   <g id=\"patch_22\">\n    <path clip-path=\"url(#pd3c4cdd613)\" d=\"M 136.341048 263.55 \nL 136.341048 263.55 \nL 136.341048 276.1 \nL 136.341048 276.1 \nz\n\" style=\"fill:#d9e6f5;stroke:#444443;stroke-linejoin:miter;stroke-width:0.5;\"/>\n   </g>\n   <g id=\"patch_23\">\n    <path clip-path=\"url(#pd3c4cdd613)\" d=\"M 136.341048 277.355 \nL 136.164767 277.355 \nL 136.164767 289.905 \nL 136.341048 289.905 \nz\n\" style=\"fill:#d9e6f5;stroke:#444443;stroke-linejoin:miter;stroke-width:0.5;\"/>\n   </g>\n   <g id=\"matplotlib.axis_1\">\n    <g id=\"xtick_1\">\n     <g id=\"line2d_1\">\n      <defs>\n       <path d=\"M 0 0 \nL 0 3.5 \n\" id=\"mdfafb7fe4b\" style=\"stroke:#000000;stroke-width:0.8;\"/>\n      </defs>\n      <g>\n       <use style=\"stroke:#000000;stroke-width:0.8;\" x=\"136.341048\" xlink:href=\"#mdfafb7fe4b\" y=\"291.16\"/>\n      </g>\n     </g>\n     <g id=\"text_1\">\n      <!-- 0.00 -->\n      <defs>\n       <path d=\"M 31.78125 66.40625 \nQ 24.171875 66.40625 20.328125 58.90625 \nQ 16.5 51.421875 16.5 36.375 \nQ 16.5 21.390625 20.328125 13.890625 \nQ 24.171875 6.390625 31.78125 6.390625 \nQ 39.453125 6.390625 43.28125 13.890625 \nQ 47.125 21.390625 47.125 36.375 \nQ 47.125 51.421875 43.28125 58.90625 \nQ 39.453125 66.40625 31.78125 66.40625 \nz\nM 31.78125 74.21875 \nQ 44.046875 74.21875 50.515625 64.515625 \nQ 56.984375 54.828125 56.984375 36.375 \nQ 56.984375 17.96875 50.515625 8.265625 \nQ 44.046875 -1.421875 31.78125 -1.421875 \nQ 19.53125 -1.421875 13.0625 8.265625 \nQ 6.59375 17.96875 6.59375 36.375 \nQ 6.59375 54.828125 13.0625 64.515625 \nQ 19.53125 74.21875 31.78125 74.21875 \nz\n\" id=\"DejaVuSans-48\"/>\n       <path d=\"M 10.6875 12.40625 \nL 21 12.40625 \nL 21 0 \nL 10.6875 0 \nz\n\" id=\"DejaVuSans-46\"/>\n      </defs>\n      <g style=\"fill:#444443;\" transform=\"translate(125.208235 305.758438)scale(0.1 -0.1)\">\n       <use xlink:href=\"#DejaVuSans-48\"/>\n       <use x=\"63.623047\" xlink:href=\"#DejaVuSans-46\"/>\n       <use x=\"95.410156\" xlink:href=\"#DejaVuSans-48\"/>\n       <use x=\"159.033203\" xlink:href=\"#DejaVuSans-48\"/>\n      </g>\n     </g>\n    </g>\n    <g id=\"xtick_2\">\n     <g id=\"line2d_2\">\n      <g>\n       <use style=\"stroke:#000000;stroke-width:0.8;\" x=\"251.2175\" xlink:href=\"#mdfafb7fe4b\" y=\"291.16\"/>\n      </g>\n     </g>\n     <g id=\"text_2\">\n      <!-- 0.49 -->\n      <defs>\n       <path d=\"M 37.796875 64.3125 \nL 12.890625 25.390625 \nL 37.796875 25.390625 \nz\nM 35.203125 72.90625 \nL 47.609375 72.90625 \nL 47.609375 25.390625 \nL 58.015625 25.390625 \nL 58.015625 17.1875 \nL 47.609375 17.1875 \nL 47.609375 0 \nL 37.796875 0 \nL 37.796875 17.1875 \nL 4.890625 17.1875 \nL 4.890625 26.703125 \nz\n\" id=\"DejaVuSans-52\"/>\n       <path d=\"M 10.984375 1.515625 \nL 10.984375 10.5 \nQ 14.703125 8.734375 18.5 7.8125 \nQ 22.3125 6.890625 25.984375 6.890625 \nQ 35.75 6.890625 40.890625 13.453125 \nQ 46.046875 20.015625 46.78125 33.40625 \nQ 43.953125 29.203125 39.59375 26.953125 \nQ 35.25 24.703125 29.984375 24.703125 \nQ 19.046875 24.703125 12.671875 31.3125 \nQ 6.296875 37.9375 6.296875 49.421875 \nQ 6.296875 60.640625 12.9375 67.421875 \nQ 19.578125 74.21875 30.609375 74.21875 \nQ 43.265625 74.21875 49.921875 64.515625 \nQ 56.59375 54.828125 56.59375 36.375 \nQ 56.59375 19.140625 48.40625 8.859375 \nQ 40.234375 -1.421875 26.421875 -1.421875 \nQ 22.703125 -1.421875 18.890625 -0.6875 \nQ 15.09375 0.046875 10.984375 1.515625 \nz\nM 30.609375 32.421875 \nQ 37.25 32.421875 41.125 36.953125 \nQ 45.015625 41.5 45.015625 49.421875 \nQ 45.015625 57.28125 41.125 61.84375 \nQ 37.25 66.40625 30.609375 66.40625 \nQ 23.96875 66.40625 20.09375 61.84375 \nQ 16.21875 57.28125 16.21875 49.421875 \nQ 16.21875 41.5 20.09375 36.953125 \nQ 23.96875 32.421875 30.609375 32.421875 \nz\n\" id=\"DejaVuSans-57\"/>\n      </defs>\n      <g style=\"fill:#444443;\" transform=\"translate(240.084688 305.758438)scale(0.1 -0.1)\">\n       <use xlink:href=\"#DejaVuSans-48\"/>\n       <use x=\"63.623047\" xlink:href=\"#DejaVuSans-46\"/>\n       <use x=\"95.410156\" xlink:href=\"#DejaVuSans-52\"/>\n       <use x=\"159.033203\" xlink:href=\"#DejaVuSans-57\"/>\n      </g>\n     </g>\n    </g>\n   </g>\n   <g id=\"matplotlib.axis_2\">\n    <g id=\"ytick_1\">\n     <g id=\"line2d_3\">\n      <defs>\n       <path d=\"M 0 0 \nL -3.5 0 \n\" id=\"mb39f1e18d9\" style=\"stroke:#000000;stroke-width:0.8;\"/>\n      </defs>\n      <g>\n       <use style=\"stroke:#000000;stroke-width:0.8;\" x=\"135.7\" xlink:href=\"#mb39f1e18d9\" y=\"7.53\"/>\n      </g>\n     </g>\n     <g id=\"text_3\">\n      <!-- sensor_2 -->\n      <defs>\n       <path d=\"M 44.28125 53.078125 \nL 44.28125 44.578125 \nQ 40.484375 46.53125 36.375 47.5 \nQ 32.28125 48.484375 27.875 48.484375 \nQ 21.1875 48.484375 17.84375 46.4375 \nQ 14.5 44.390625 14.5 40.28125 \nQ 14.5 37.15625 16.890625 35.375 \nQ 19.28125 33.59375 26.515625 31.984375 \nL 29.59375 31.296875 \nQ 39.15625 29.25 43.1875 25.515625 \nQ 47.21875 21.78125 47.21875 15.09375 \nQ 47.21875 7.46875 41.1875 3.015625 \nQ 35.15625 -1.421875 24.609375 -1.421875 \nQ 20.21875 -1.421875 15.453125 -0.5625 \nQ 10.6875 0.296875 5.421875 2 \nL 5.421875 11.28125 \nQ 10.40625 8.6875 15.234375 7.390625 \nQ 20.0625 6.109375 24.8125 6.109375 \nQ 31.15625 6.109375 34.5625 8.28125 \nQ 37.984375 10.453125 37.984375 14.40625 \nQ 37.984375 18.0625 35.515625 20.015625 \nQ 33.0625 21.96875 24.703125 23.78125 \nL 21.578125 24.515625 \nQ 13.234375 26.265625 9.515625 29.90625 \nQ 5.8125 33.546875 5.8125 39.890625 \nQ 5.8125 47.609375 11.28125 51.796875 \nQ 16.75 56 26.8125 56 \nQ 31.78125 56 36.171875 55.265625 \nQ 40.578125 54.546875 44.28125 53.078125 \nz\n\" id=\"DejaVuSans-115\"/>\n       <path d=\"M 56.203125 29.59375 \nL 56.203125 25.203125 \nL 14.890625 25.203125 \nQ 15.484375 15.921875 20.484375 11.0625 \nQ 25.484375 6.203125 34.421875 6.203125 \nQ 39.59375 6.203125 44.453125 7.46875 \nQ 49.3125 8.734375 54.109375 11.28125 \nL 54.109375 2.78125 \nQ 49.265625 0.734375 44.1875 -0.34375 \nQ 39.109375 -1.421875 33.890625 -1.421875 \nQ 20.796875 -1.421875 13.15625 6.1875 \nQ 5.515625 13.8125 5.515625 26.8125 \nQ 5.515625 40.234375 12.765625 48.109375 \nQ 20.015625 56 32.328125 56 \nQ 43.359375 56 49.78125 48.890625 \nQ 56.203125 41.796875 56.203125 29.59375 \nz\nM 47.21875 32.234375 \nQ 47.125 39.59375 43.09375 43.984375 \nQ 39.0625 48.390625 32.421875 48.390625 \nQ 24.90625 48.390625 20.390625 44.140625 \nQ 15.875 39.890625 15.1875 32.171875 \nz\n\" id=\"DejaVuSans-101\"/>\n       <path d=\"M 54.890625 33.015625 \nL 54.890625 0 \nL 45.90625 0 \nL 45.90625 32.71875 \nQ 45.90625 40.484375 42.875 44.328125 \nQ 39.84375 48.1875 33.796875 48.1875 \nQ 26.515625 48.1875 22.3125 43.546875 \nQ 18.109375 38.921875 18.109375 30.90625 \nL 18.109375 0 \nL 9.078125 0 \nL 9.078125 54.6875 \nL 18.109375 54.6875 \nL 18.109375 46.1875 \nQ 21.34375 51.125 25.703125 53.5625 \nQ 30.078125 56 35.796875 56 \nQ 45.21875 56 50.046875 50.171875 \nQ 54.890625 44.34375 54.890625 33.015625 \nz\n\" id=\"DejaVuSans-110\"/>\n       <path d=\"M 30.609375 48.390625 \nQ 23.390625 48.390625 19.1875 42.75 \nQ 14.984375 37.109375 14.984375 27.296875 \nQ 14.984375 17.484375 19.15625 11.84375 \nQ 23.34375 6.203125 30.609375 6.203125 \nQ 37.796875 6.203125 41.984375 11.859375 \nQ 46.1875 17.53125 46.1875 27.296875 \nQ 46.1875 37.015625 41.984375 42.703125 \nQ 37.796875 48.390625 30.609375 48.390625 \nz\nM 30.609375 56 \nQ 42.328125 56 49.015625 48.375 \nQ 55.71875 40.765625 55.71875 27.296875 \nQ 55.71875 13.875 49.015625 6.21875 \nQ 42.328125 -1.421875 30.609375 -1.421875 \nQ 18.84375 -1.421875 12.171875 6.21875 \nQ 5.515625 13.875 5.515625 27.296875 \nQ 5.515625 40.765625 12.171875 48.375 \nQ 18.84375 56 30.609375 56 \nz\n\" id=\"DejaVuSans-111\"/>\n       <path d=\"M 41.109375 46.296875 \nQ 39.59375 47.171875 37.8125 47.578125 \nQ 36.03125 48 33.890625 48 \nQ 26.265625 48 22.1875 43.046875 \nQ 18.109375 38.09375 18.109375 28.8125 \nL 18.109375 0 \nL 9.078125 0 \nL 9.078125 54.6875 \nL 18.109375 54.6875 \nL 18.109375 46.1875 \nQ 20.953125 51.171875 25.484375 53.578125 \nQ 30.03125 56 36.53125 56 \nQ 37.453125 56 38.578125 55.875 \nQ 39.703125 55.765625 41.0625 55.515625 \nz\n\" id=\"DejaVuSans-114\"/>\n       <path d=\"M 50.984375 -16.609375 \nL 50.984375 -23.578125 \nL -0.984375 -23.578125 \nL -0.984375 -16.609375 \nz\n\" id=\"DejaVuSans-95\"/>\n       <path d=\"M 19.1875 8.296875 \nL 53.609375 8.296875 \nL 53.609375 0 \nL 7.328125 0 \nL 7.328125 8.296875 \nQ 12.9375 14.109375 22.625 23.890625 \nQ 32.328125 33.6875 34.8125 36.53125 \nQ 39.546875 41.84375 41.421875 45.53125 \nQ 43.3125 49.21875 43.3125 52.78125 \nQ 43.3125 58.59375 39.234375 62.25 \nQ 35.15625 65.921875 28.609375 65.921875 \nQ 23.96875 65.921875 18.8125 64.3125 \nQ 13.671875 62.703125 7.8125 59.421875 \nL 7.8125 69.390625 \nQ 13.765625 71.78125 18.9375 73 \nQ 24.125 74.21875 28.421875 74.21875 \nQ 39.75 74.21875 46.484375 68.546875 \nQ 53.21875 62.890625 53.21875 53.421875 \nQ 53.21875 48.921875 51.53125 44.890625 \nQ 49.859375 40.875 45.40625 35.40625 \nQ 44.1875 33.984375 37.640625 27.21875 \nQ 31.109375 20.453125 19.1875 8.296875 \nz\n\" id=\"DejaVuSans-50\"/>\n      </defs>\n      <g style=\"fill:#444443;\" transform=\"translate(84.198438 11.240937)scale(0.1 -0.1)\">\n       <use xlink:href=\"#DejaVuSans-115\"/>\n       <use x=\"52.099609\" xlink:href=\"#DejaVuSans-101\"/>\n       <use x=\"113.623047\" xlink:href=\"#DejaVuSans-110\"/>\n       <use x=\"177.001953\" xlink:href=\"#DejaVuSans-115\"/>\n       <use x=\"229.101562\" xlink:href=\"#DejaVuSans-111\"/>\n       <use x=\"290.283203\" xlink:href=\"#DejaVuSans-114\"/>\n       <use x=\"331.396484\" xlink:href=\"#DejaVuSans-95\"/>\n       <use x=\"381.396484\" xlink:href=\"#DejaVuSans-50\"/>\n      </g>\n     </g>\n    </g>\n    <g id=\"ytick_2\">\n     <g id=\"line2d_4\">\n      <g>\n       <use style=\"stroke:#000000;stroke-width:0.8;\" x=\"135.7\" xlink:href=\"#mb39f1e18d9\" y=\"21.335\"/>\n      </g>\n     </g>\n     <g id=\"text_4\">\n      <!-- sensor_1 -->\n      <defs>\n       <path d=\"M 12.40625 8.296875 \nL 28.515625 8.296875 \nL 28.515625 63.921875 \nL 10.984375 60.40625 \nL 10.984375 69.390625 \nL 28.421875 72.90625 \nL 38.28125 72.90625 \nL 38.28125 8.296875 \nL 54.390625 8.296875 \nL 54.390625 0 \nL 12.40625 0 \nz\n\" id=\"DejaVuSans-49\"/>\n      </defs>\n      <g style=\"fill:#444443;\" transform=\"translate(84.198438 24.995156)scale(0.1 -0.1)\">\n       <use xlink:href=\"#DejaVuSans-115\"/>\n       <use x=\"52.099609\" xlink:href=\"#DejaVuSans-101\"/>\n       <use x=\"113.623047\" xlink:href=\"#DejaVuSans-110\"/>\n       <use x=\"177.001953\" xlink:href=\"#DejaVuSans-115\"/>\n       <use x=\"229.101562\" xlink:href=\"#DejaVuSans-111\"/>\n       <use x=\"290.283203\" xlink:href=\"#DejaVuSans-114\"/>\n       <use x=\"331.396484\" xlink:href=\"#DejaVuSans-95\"/>\n       <use x=\"381.396484\" xlink:href=\"#DejaVuSans-49\"/>\n      </g>\n     </g>\n    </g>\n    <g id=\"ytick_3\">\n     <g id=\"line2d_5\">\n      <g>\n       <use style=\"stroke:#000000;stroke-width:0.8;\" x=\"135.7\" xlink:href=\"#mb39f1e18d9\" y=\"35.14\"/>\n      </g>\n     </g>\n     <g id=\"text_5\">\n      <!-- absolute_humidity -->\n      <defs>\n       <path d=\"M 34.28125 27.484375 \nQ 23.390625 27.484375 19.1875 25 \nQ 14.984375 22.515625 14.984375 16.5 \nQ 14.984375 11.71875 18.140625 8.90625 \nQ 21.296875 6.109375 26.703125 6.109375 \nQ 34.1875 6.109375 38.703125 11.40625 \nQ 43.21875 16.703125 43.21875 25.484375 \nL 43.21875 27.484375 \nz\nM 52.203125 31.203125 \nL 52.203125 0 \nL 43.21875 0 \nL 43.21875 8.296875 \nQ 40.140625 3.328125 35.546875 0.953125 \nQ 30.953125 -1.421875 24.3125 -1.421875 \nQ 15.921875 -1.421875 10.953125 3.296875 \nQ 6 8.015625 6 15.921875 \nQ 6 25.140625 12.171875 29.828125 \nQ 18.359375 34.515625 30.609375 34.515625 \nL 43.21875 34.515625 \nL 43.21875 35.40625 \nQ 43.21875 41.609375 39.140625 45 \nQ 35.0625 48.390625 27.6875 48.390625 \nQ 23 48.390625 18.546875 47.265625 \nQ 14.109375 46.140625 10.015625 43.890625 \nL 10.015625 52.203125 \nQ 14.9375 54.109375 19.578125 55.046875 \nQ 24.21875 56 28.609375 56 \nQ 40.484375 56 46.34375 49.84375 \nQ 52.203125 43.703125 52.203125 31.203125 \nz\n\" id=\"DejaVuSans-97\"/>\n       <path d=\"M 48.6875 27.296875 \nQ 48.6875 37.203125 44.609375 42.84375 \nQ 40.53125 48.484375 33.40625 48.484375 \nQ 26.265625 48.484375 22.1875 42.84375 \nQ 18.109375 37.203125 18.109375 27.296875 \nQ 18.109375 17.390625 22.1875 11.75 \nQ 26.265625 6.109375 33.40625 6.109375 \nQ 40.53125 6.109375 44.609375 11.75 \nQ 48.6875 17.390625 48.6875 27.296875 \nz\nM 18.109375 46.390625 \nQ 20.953125 51.265625 25.265625 53.625 \nQ 29.59375 56 35.59375 56 \nQ 45.5625 56 51.78125 48.09375 \nQ 58.015625 40.1875 58.015625 27.296875 \nQ 58.015625 14.40625 51.78125 6.484375 \nQ 45.5625 -1.421875 35.59375 -1.421875 \nQ 29.59375 -1.421875 25.265625 0.953125 \nQ 20.953125 3.328125 18.109375 8.203125 \nL 18.109375 0 \nL 9.078125 0 \nL 9.078125 75.984375 \nL 18.109375 75.984375 \nz\n\" id=\"DejaVuSans-98\"/>\n       <path d=\"M 9.421875 75.984375 \nL 18.40625 75.984375 \nL 18.40625 0 \nL 9.421875 0 \nz\n\" id=\"DejaVuSans-108\"/>\n       <path d=\"M 8.5 21.578125 \nL 8.5 54.6875 \nL 17.484375 54.6875 \nL 17.484375 21.921875 \nQ 17.484375 14.15625 20.5 10.265625 \nQ 23.53125 6.390625 29.59375 6.390625 \nQ 36.859375 6.390625 41.078125 11.03125 \nQ 45.3125 15.671875 45.3125 23.6875 \nL 45.3125 54.6875 \nL 54.296875 54.6875 \nL 54.296875 0 \nL 45.3125 0 \nL 45.3125 8.40625 \nQ 42.046875 3.421875 37.71875 1 \nQ 33.40625 -1.421875 27.6875 -1.421875 \nQ 18.265625 -1.421875 13.375 4.4375 \nQ 8.5 10.296875 8.5 21.578125 \nz\nM 31.109375 56 \nz\n\" id=\"DejaVuSans-117\"/>\n       <path d=\"M 18.3125 70.21875 \nL 18.3125 54.6875 \nL 36.8125 54.6875 \nL 36.8125 47.703125 \nL 18.3125 47.703125 \nL 18.3125 18.015625 \nQ 18.3125 11.328125 20.140625 9.421875 \nQ 21.96875 7.515625 27.59375 7.515625 \nL 36.8125 7.515625 \nL 36.8125 0 \nL 27.59375 0 \nQ 17.1875 0 13.234375 3.875 \nQ 9.28125 7.765625 9.28125 18.015625 \nL 9.28125 47.703125 \nL 2.6875 47.703125 \nL 2.6875 54.6875 \nL 9.28125 54.6875 \nL 9.28125 70.21875 \nz\n\" id=\"DejaVuSans-116\"/>\n       <path d=\"M 54.890625 33.015625 \nL 54.890625 0 \nL 45.90625 0 \nL 45.90625 32.71875 \nQ 45.90625 40.484375 42.875 44.328125 \nQ 39.84375 48.1875 33.796875 48.1875 \nQ 26.515625 48.1875 22.3125 43.546875 \nQ 18.109375 38.921875 18.109375 30.90625 \nL 18.109375 0 \nL 9.078125 0 \nL 9.078125 75.984375 \nL 18.109375 75.984375 \nL 18.109375 46.1875 \nQ 21.34375 51.125 25.703125 53.5625 \nQ 30.078125 56 35.796875 56 \nQ 45.21875 56 50.046875 50.171875 \nQ 54.890625 44.34375 54.890625 33.015625 \nz\n\" id=\"DejaVuSans-104\"/>\n       <path d=\"M 52 44.1875 \nQ 55.375 50.25 60.0625 53.125 \nQ 64.75 56 71.09375 56 \nQ 79.640625 56 84.28125 50.015625 \nQ 88.921875 44.046875 88.921875 33.015625 \nL 88.921875 0 \nL 79.890625 0 \nL 79.890625 32.71875 \nQ 79.890625 40.578125 77.09375 44.375 \nQ 74.3125 48.1875 68.609375 48.1875 \nQ 61.625 48.1875 57.5625 43.546875 \nQ 53.515625 38.921875 53.515625 30.90625 \nL 53.515625 0 \nL 44.484375 0 \nL 44.484375 32.71875 \nQ 44.484375 40.625 41.703125 44.40625 \nQ 38.921875 48.1875 33.109375 48.1875 \nQ 26.21875 48.1875 22.15625 43.53125 \nQ 18.109375 38.875 18.109375 30.90625 \nL 18.109375 0 \nL 9.078125 0 \nL 9.078125 54.6875 \nL 18.109375 54.6875 \nL 18.109375 46.1875 \nQ 21.1875 51.21875 25.484375 53.609375 \nQ 29.78125 56 35.6875 56 \nQ 41.65625 56 45.828125 52.96875 \nQ 50 49.953125 52 44.1875 \nz\n\" id=\"DejaVuSans-109\"/>\n       <path d=\"M 9.421875 54.6875 \nL 18.40625 54.6875 \nL 18.40625 0 \nL 9.421875 0 \nz\nM 9.421875 75.984375 \nL 18.40625 75.984375 \nL 18.40625 64.59375 \nL 9.421875 64.59375 \nz\n\" id=\"DejaVuSans-105\"/>\n       <path d=\"M 45.40625 46.390625 \nL 45.40625 75.984375 \nL 54.390625 75.984375 \nL 54.390625 0 \nL 45.40625 0 \nL 45.40625 8.203125 \nQ 42.578125 3.328125 38.25 0.953125 \nQ 33.9375 -1.421875 27.875 -1.421875 \nQ 17.96875 -1.421875 11.734375 6.484375 \nQ 5.515625 14.40625 5.515625 27.296875 \nQ 5.515625 40.1875 11.734375 48.09375 \nQ 17.96875 56 27.875 56 \nQ 33.9375 56 38.25 53.625 \nQ 42.578125 51.265625 45.40625 46.390625 \nz\nM 14.796875 27.296875 \nQ 14.796875 17.390625 18.875 11.75 \nQ 22.953125 6.109375 30.078125 6.109375 \nQ 37.203125 6.109375 41.296875 11.75 \nQ 45.40625 17.390625 45.40625 27.296875 \nQ 45.40625 37.203125 41.296875 42.84375 \nQ 37.203125 48.484375 30.078125 48.484375 \nQ 22.953125 48.484375 18.875 42.84375 \nQ 14.796875 37.203125 14.796875 27.296875 \nz\n\" id=\"DejaVuSans-100\"/>\n       <path d=\"M 32.171875 -5.078125 \nQ 28.375 -14.84375 24.75 -17.8125 \nQ 21.140625 -20.796875 15.09375 -20.796875 \nL 7.90625 -20.796875 \nL 7.90625 -13.28125 \nL 13.1875 -13.28125 \nQ 16.890625 -13.28125 18.9375 -11.515625 \nQ 21 -9.765625 23.484375 -3.21875 \nL 25.09375 0.875 \nL 2.984375 54.6875 \nL 12.5 54.6875 \nL 29.59375 11.921875 \nL 46.6875 54.6875 \nL 56.203125 54.6875 \nz\n\" id=\"DejaVuSans-121\"/>\n      </defs>\n      <g style=\"fill:#444443;\" transform=\"translate(36.546875 38.939219)scale(0.1 -0.1)\">\n       <use xlink:href=\"#DejaVuSans-97\"/>\n       <use x=\"61.279297\" xlink:href=\"#DejaVuSans-98\"/>\n       <use x=\"124.755859\" xlink:href=\"#DejaVuSans-115\"/>\n       <use x=\"176.855469\" xlink:href=\"#DejaVuSans-111\"/>\n       <use x=\"238.037109\" xlink:href=\"#DejaVuSans-108\"/>\n       <use x=\"265.820312\" xlink:href=\"#DejaVuSans-117\"/>\n       <use x=\"329.199219\" xlink:href=\"#DejaVuSans-116\"/>\n       <use x=\"368.408203\" xlink:href=\"#DejaVuSans-101\"/>\n       <use x=\"429.931641\" xlink:href=\"#DejaVuSans-95\"/>\n       <use x=\"479.931641\" xlink:href=\"#DejaVuSans-104\"/>\n       <use x=\"543.310547\" xlink:href=\"#DejaVuSans-117\"/>\n       <use x=\"606.689453\" xlink:href=\"#DejaVuSans-109\"/>\n       <use x=\"704.101562\" xlink:href=\"#DejaVuSans-105\"/>\n       <use x=\"731.884766\" xlink:href=\"#DejaVuSans-100\"/>\n       <use x=\"795.361328\" xlink:href=\"#DejaVuSans-105\"/>\n       <use x=\"823.144531\" xlink:href=\"#DejaVuSans-116\"/>\n       <use x=\"862.353516\" xlink:href=\"#DejaVuSans-121\"/>\n      </g>\n     </g>\n    </g>\n    <g id=\"ytick_4\">\n     <g id=\"line2d_6\">\n      <g>\n       <use style=\"stroke:#000000;stroke-width:0.8;\" x=\"135.7\" xlink:href=\"#mb39f1e18d9\" y=\"48.945\"/>\n      </g>\n     </g>\n     <g id=\"text_6\">\n      <!-- sensor_5 -->\n      <defs>\n       <path d=\"M 10.796875 72.90625 \nL 49.515625 72.90625 \nL 49.515625 64.59375 \nL 19.828125 64.59375 \nL 19.828125 46.734375 \nQ 21.96875 47.46875 24.109375 47.828125 \nQ 26.265625 48.1875 28.421875 48.1875 \nQ 40.625 48.1875 47.75 41.5 \nQ 54.890625 34.8125 54.890625 23.390625 \nQ 54.890625 11.625 47.5625 5.09375 \nQ 40.234375 -1.421875 26.90625 -1.421875 \nQ 22.3125 -1.421875 17.546875 -0.640625 \nQ 12.796875 0.140625 7.71875 1.703125 \nL 7.71875 11.625 \nQ 12.109375 9.234375 16.796875 8.0625 \nQ 21.484375 6.890625 26.703125 6.890625 \nQ 35.15625 6.890625 40.078125 11.328125 \nQ 45.015625 15.765625 45.015625 23.390625 \nQ 45.015625 31 40.078125 35.4375 \nQ 35.15625 39.890625 26.703125 39.890625 \nQ 22.75 39.890625 18.8125 39.015625 \nQ 14.890625 38.140625 10.796875 36.28125 \nz\n\" id=\"DejaVuSans-53\"/>\n      </defs>\n      <g style=\"fill:#444443;\" transform=\"translate(84.198438 52.605156)scale(0.1 -0.1)\">\n       <use xlink:href=\"#DejaVuSans-115\"/>\n       <use x=\"52.099609\" xlink:href=\"#DejaVuSans-101\"/>\n       <use x=\"113.623047\" xlink:href=\"#DejaVuSans-110\"/>\n       <use x=\"177.001953\" xlink:href=\"#DejaVuSans-115\"/>\n       <use x=\"229.101562\" xlink:href=\"#DejaVuSans-111\"/>\n       <use x=\"290.283203\" xlink:href=\"#DejaVuSans-114\"/>\n       <use x=\"331.396484\" xlink:href=\"#DejaVuSans-95\"/>\n       <use x=\"381.396484\" xlink:href=\"#DejaVuSans-53\"/>\n      </g>\n     </g>\n    </g>\n    <g id=\"ytick_5\">\n     <g id=\"line2d_7\">\n      <g>\n       <use style=\"stroke:#000000;stroke-width:0.8;\" x=\"135.7\" xlink:href=\"#mb39f1e18d9\" y=\"62.75\"/>\n      </g>\n     </g>\n     <g id=\"text_7\">\n      <!-- sensor_3 -->\n      <defs>\n       <path d=\"M 40.578125 39.3125 \nQ 47.65625 37.796875 51.625 33 \nQ 55.609375 28.21875 55.609375 21.1875 \nQ 55.609375 10.40625 48.1875 4.484375 \nQ 40.765625 -1.421875 27.09375 -1.421875 \nQ 22.515625 -1.421875 17.65625 -0.515625 \nQ 12.796875 0.390625 7.625 2.203125 \nL 7.625 11.71875 \nQ 11.71875 9.328125 16.59375 8.109375 \nQ 21.484375 6.890625 26.8125 6.890625 \nQ 36.078125 6.890625 40.9375 10.546875 \nQ 45.796875 14.203125 45.796875 21.1875 \nQ 45.796875 27.640625 41.28125 31.265625 \nQ 36.765625 34.90625 28.71875 34.90625 \nL 20.21875 34.90625 \nL 20.21875 43.015625 \nL 29.109375 43.015625 \nQ 36.375 43.015625 40.234375 45.921875 \nQ 44.09375 48.828125 44.09375 54.296875 \nQ 44.09375 59.90625 40.109375 62.90625 \nQ 36.140625 65.921875 28.71875 65.921875 \nQ 24.65625 65.921875 20.015625 65.03125 \nQ 15.375 64.15625 9.8125 62.3125 \nL 9.8125 71.09375 \nQ 15.4375 72.65625 20.34375 73.4375 \nQ 25.25 74.21875 29.59375 74.21875 \nQ 40.828125 74.21875 47.359375 69.109375 \nQ 53.90625 64.015625 53.90625 55.328125 \nQ 53.90625 49.265625 50.4375 45.09375 \nQ 46.96875 40.921875 40.578125 39.3125 \nz\n\" id=\"DejaVuSans-51\"/>\n      </defs>\n      <g style=\"fill:#444443;\" transform=\"translate(84.198438 66.460938)scale(0.1 -0.1)\">\n       <use xlink:href=\"#DejaVuSans-115\"/>\n       <use x=\"52.099609\" xlink:href=\"#DejaVuSans-101\"/>\n       <use x=\"113.623047\" xlink:href=\"#DejaVuSans-110\"/>\n       <use x=\"177.001953\" xlink:href=\"#DejaVuSans-115\"/>\n       <use x=\"229.101562\" xlink:href=\"#DejaVuSans-111\"/>\n       <use x=\"290.283203\" xlink:href=\"#DejaVuSans-114\"/>\n       <use x=\"331.396484\" xlink:href=\"#DejaVuSans-95\"/>\n       <use x=\"381.396484\" xlink:href=\"#DejaVuSans-51\"/>\n      </g>\n     </g>\n    </g>\n    <g id=\"ytick_6\">\n     <g id=\"line2d_8\">\n      <g>\n       <use style=\"stroke:#000000;stroke-width:0.8;\" x=\"135.7\" xlink:href=\"#mb39f1e18d9\" y=\"76.555\"/>\n      </g>\n     </g>\n     <g id=\"text_8\">\n      <!-- relative_humidity -->\n      <defs>\n       <path d=\"M 2.984375 54.6875 \nL 12.5 54.6875 \nL 29.59375 8.796875 \nL 46.6875 54.6875 \nL 56.203125 54.6875 \nL 35.6875 0 \nL 23.484375 0 \nz\n\" id=\"DejaVuSans-118\"/>\n      </defs>\n      <g style=\"fill:#444443;\" transform=\"translate(41.825 80.354219)scale(0.1 -0.1)\">\n       <use xlink:href=\"#DejaVuSans-114\"/>\n       <use x=\"38.863281\" xlink:href=\"#DejaVuSans-101\"/>\n       <use x=\"100.386719\" xlink:href=\"#DejaVuSans-108\"/>\n       <use x=\"128.169922\" xlink:href=\"#DejaVuSans-97\"/>\n       <use x=\"189.449219\" xlink:href=\"#DejaVuSans-116\"/>\n       <use x=\"228.658203\" xlink:href=\"#DejaVuSans-105\"/>\n       <use x=\"256.441406\" xlink:href=\"#DejaVuSans-118\"/>\n       <use x=\"315.621094\" xlink:href=\"#DejaVuSans-101\"/>\n       <use x=\"377.144531\" xlink:href=\"#DejaVuSans-95\"/>\n       <use x=\"427.144531\" xlink:href=\"#DejaVuSans-104\"/>\n       <use x=\"490.523438\" xlink:href=\"#DejaVuSans-117\"/>\n       <use x=\"553.902344\" xlink:href=\"#DejaVuSans-109\"/>\n       <use x=\"651.314453\" xlink:href=\"#DejaVuSans-105\"/>\n       <use x=\"679.097656\" xlink:href=\"#DejaVuSans-100\"/>\n       <use x=\"742.574219\" xlink:href=\"#DejaVuSans-105\"/>\n       <use x=\"770.357422\" xlink:href=\"#DejaVuSans-116\"/>\n       <use x=\"809.566406\" xlink:href=\"#DejaVuSans-121\"/>\n      </g>\n     </g>\n    </g>\n    <g id=\"ytick_7\">\n     <g id=\"line2d_9\">\n      <g>\n       <use style=\"stroke:#000000;stroke-width:0.8;\" x=\"135.7\" xlink:href=\"#mb39f1e18d9\" y=\"90.36\"/>\n      </g>\n     </g>\n     <g id=\"text_9\">\n      <!-- sensor_4 -->\n      <g style=\"fill:#444443;\" transform=\"translate(84.198438 94.020156)scale(0.1 -0.1)\">\n       <use xlink:href=\"#DejaVuSans-115\"/>\n       <use x=\"52.099609\" xlink:href=\"#DejaVuSans-101\"/>\n       <use x=\"113.623047\" xlink:href=\"#DejaVuSans-110\"/>\n       <use x=\"177.001953\" xlink:href=\"#DejaVuSans-115\"/>\n       <use x=\"229.101562\" xlink:href=\"#DejaVuSans-111\"/>\n       <use x=\"290.283203\" xlink:href=\"#DejaVuSans-114\"/>\n       <use x=\"331.396484\" xlink:href=\"#DejaVuSans-95\"/>\n       <use x=\"381.396484\" xlink:href=\"#DejaVuSans-52\"/>\n      </g>\n     </g>\n    </g>\n    <g id=\"ytick_8\">\n     <g id=\"line2d_10\">\n      <g>\n       <use style=\"stroke:#000000;stroke-width:0.8;\" x=\"135.7\" xlink:href=\"#mb39f1e18d9\" y=\"104.165\"/>\n      </g>\n     </g>\n     <g id=\"text_10\">\n      <!-- date_timeDay -->\n      <defs>\n       <path d=\"M 19.671875 64.796875 \nL 19.671875 8.109375 \nL 31.59375 8.109375 \nQ 46.6875 8.109375 53.6875 14.9375 \nQ 60.6875 21.78125 60.6875 36.53125 \nQ 60.6875 51.171875 53.6875 57.984375 \nQ 46.6875 64.796875 31.59375 64.796875 \nz\nM 9.8125 72.90625 \nL 30.078125 72.90625 \nQ 51.265625 72.90625 61.171875 64.09375 \nQ 71.09375 55.28125 71.09375 36.53125 \nQ 71.09375 17.671875 61.125 8.828125 \nQ 51.171875 0 30.078125 0 \nL 9.8125 0 \nz\n\" id=\"DejaVuSans-68\"/>\n      </defs>\n      <g style=\"fill:#444443;\" transform=\"translate(58.810938 107.964219)scale(0.1 -0.1)\">\n       <use xlink:href=\"#DejaVuSans-100\"/>\n       <use x=\"63.476562\" xlink:href=\"#DejaVuSans-97\"/>\n       <use x=\"124.755859\" xlink:href=\"#DejaVuSans-116\"/>\n       <use x=\"163.964844\" xlink:href=\"#DejaVuSans-101\"/>\n       <use x=\"225.488281\" xlink:href=\"#DejaVuSans-95\"/>\n       <use x=\"275.488281\" xlink:href=\"#DejaVuSans-116\"/>\n       <use x=\"314.697266\" xlink:href=\"#DejaVuSans-105\"/>\n       <use x=\"342.480469\" xlink:href=\"#DejaVuSans-109\"/>\n       <use x=\"439.892578\" xlink:href=\"#DejaVuSans-101\"/>\n       <use x=\"501.416016\" xlink:href=\"#DejaVuSans-68\"/>\n       <use x=\"578.417969\" xlink:href=\"#DejaVuSans-97\"/>\n       <use x=\"639.697266\" xlink:href=\"#DejaVuSans-121\"/>\n      </g>\n     </g>\n    </g>\n    <g id=\"ytick_9\">\n     <g id=\"line2d_11\">\n      <g>\n       <use style=\"stroke:#000000;stroke-width:0.8;\" x=\"135.7\" xlink:href=\"#mb39f1e18d9\" y=\"117.97\"/>\n      </g>\n     </g>\n     <g id=\"text_11\">\n      <!-- deg_C -->\n      <defs>\n       <path d=\"M 45.40625 27.984375 \nQ 45.40625 37.75 41.375 43.109375 \nQ 37.359375 48.484375 30.078125 48.484375 \nQ 22.859375 48.484375 18.828125 43.109375 \nQ 14.796875 37.75 14.796875 27.984375 \nQ 14.796875 18.265625 18.828125 12.890625 \nQ 22.859375 7.515625 30.078125 7.515625 \nQ 37.359375 7.515625 41.375 12.890625 \nQ 45.40625 18.265625 45.40625 27.984375 \nz\nM 54.390625 6.78125 \nQ 54.390625 -7.171875 48.1875 -13.984375 \nQ 42 -20.796875 29.203125 -20.796875 \nQ 24.46875 -20.796875 20.265625 -20.09375 \nQ 16.0625 -19.390625 12.109375 -17.921875 \nL 12.109375 -9.1875 \nQ 16.0625 -11.328125 19.921875 -12.34375 \nQ 23.78125 -13.375 27.78125 -13.375 \nQ 36.625 -13.375 41.015625 -8.765625 \nQ 45.40625 -4.15625 45.40625 5.171875 \nL 45.40625 9.625 \nQ 42.625 4.78125 38.28125 2.390625 \nQ 33.9375 0 27.875 0 \nQ 17.828125 0 11.671875 7.65625 \nQ 5.515625 15.328125 5.515625 27.984375 \nQ 5.515625 40.671875 11.671875 48.328125 \nQ 17.828125 56 27.875 56 \nQ 33.9375 56 38.28125 53.609375 \nQ 42.625 51.21875 45.40625 46.390625 \nL 45.40625 54.6875 \nL 54.390625 54.6875 \nz\n\" id=\"DejaVuSans-103\"/>\n       <path d=\"M 64.40625 67.28125 \nL 64.40625 56.890625 \nQ 59.421875 61.53125 53.78125 63.8125 \nQ 48.140625 66.109375 41.796875 66.109375 \nQ 29.296875 66.109375 22.65625 58.46875 \nQ 16.015625 50.828125 16.015625 36.375 \nQ 16.015625 21.96875 22.65625 14.328125 \nQ 29.296875 6.6875 41.796875 6.6875 \nQ 48.140625 6.6875 53.78125 8.984375 \nQ 59.421875 11.28125 64.40625 15.921875 \nL 64.40625 5.609375 \nQ 59.234375 2.09375 53.4375 0.328125 \nQ 47.65625 -1.421875 41.21875 -1.421875 \nQ 24.65625 -1.421875 15.125 8.703125 \nQ 5.609375 18.84375 5.609375 36.375 \nQ 5.609375 53.953125 15.125 64.078125 \nQ 24.65625 74.21875 41.21875 74.21875 \nQ 47.75 74.21875 53.53125 72.484375 \nQ 59.328125 70.75 64.40625 67.28125 \nz\n\" id=\"DejaVuSans-67\"/>\n      </defs>\n      <g style=\"fill:#444443;\" transform=\"translate(97.867188 121.769219)scale(0.1 -0.1)\">\n       <use xlink:href=\"#DejaVuSans-100\"/>\n       <use x=\"63.476562\" xlink:href=\"#DejaVuSans-101\"/>\n       <use x=\"125\" xlink:href=\"#DejaVuSans-103\"/>\n       <use x=\"188.476562\" xlink:href=\"#DejaVuSans-95\"/>\n       <use x=\"238.476562\" xlink:href=\"#DejaVuSans-67\"/>\n      </g>\n     </g>\n    </g>\n    <g id=\"ytick_10\">\n     <g id=\"line2d_12\">\n      <g>\n       <use style=\"stroke:#000000;stroke-width:0.8;\" x=\"135.7\" xlink:href=\"#mb39f1e18d9\" y=\"131.775\"/>\n      </g>\n     </g>\n     <g id=\"text_12\">\n      <!-- date_timeDayofweek -->\n      <defs>\n       <path d=\"M 37.109375 75.984375 \nL 37.109375 68.5 \nL 28.515625 68.5 \nQ 23.6875 68.5 21.796875 66.546875 \nQ 19.921875 64.59375 19.921875 59.515625 \nL 19.921875 54.6875 \nL 34.71875 54.6875 \nL 34.71875 47.703125 \nL 19.921875 47.703125 \nL 19.921875 0 \nL 10.890625 0 \nL 10.890625 47.703125 \nL 2.296875 47.703125 \nL 2.296875 54.6875 \nL 10.890625 54.6875 \nL 10.890625 58.5 \nQ 10.890625 67.625 15.140625 71.796875 \nQ 19.390625 75.984375 28.609375 75.984375 \nz\n\" id=\"DejaVuSans-102\"/>\n       <path d=\"M 4.203125 54.6875 \nL 13.1875 54.6875 \nL 24.421875 12.015625 \nL 35.59375 54.6875 \nL 46.1875 54.6875 \nL 57.421875 12.015625 \nL 68.609375 54.6875 \nL 77.59375 54.6875 \nL 63.28125 0 \nL 52.6875 0 \nL 40.921875 44.828125 \nL 29.109375 0 \nL 18.5 0 \nz\n\" id=\"DejaVuSans-119\"/>\n       <path d=\"M 9.078125 75.984375 \nL 18.109375 75.984375 \nL 18.109375 31.109375 \nL 44.921875 54.6875 \nL 56.390625 54.6875 \nL 27.390625 29.109375 \nL 57.625 0 \nL 45.90625 0 \nL 18.109375 26.703125 \nL 18.109375 0 \nL 9.078125 0 \nz\n\" id=\"DejaVuSans-107\"/>\n      </defs>\n      <g style=\"fill:#444443;\" transform=\"translate(23.071875 135.574219)scale(0.1 -0.1)\">\n       <use xlink:href=\"#DejaVuSans-100\"/>\n       <use x=\"63.476562\" xlink:href=\"#DejaVuSans-97\"/>\n       <use x=\"124.755859\" xlink:href=\"#DejaVuSans-116\"/>\n       <use x=\"163.964844\" xlink:href=\"#DejaVuSans-101\"/>\n       <use x=\"225.488281\" xlink:href=\"#DejaVuSans-95\"/>\n       <use x=\"275.488281\" xlink:href=\"#DejaVuSans-116\"/>\n       <use x=\"314.697266\" xlink:href=\"#DejaVuSans-105\"/>\n       <use x=\"342.480469\" xlink:href=\"#DejaVuSans-109\"/>\n       <use x=\"439.892578\" xlink:href=\"#DejaVuSans-101\"/>\n       <use x=\"501.416016\" xlink:href=\"#DejaVuSans-68\"/>\n       <use x=\"578.417969\" xlink:href=\"#DejaVuSans-97\"/>\n       <use x=\"639.697266\" xlink:href=\"#DejaVuSans-121\"/>\n       <use x=\"698.876953\" xlink:href=\"#DejaVuSans-111\"/>\n       <use x=\"760.058594\" xlink:href=\"#DejaVuSans-102\"/>\n       <use x=\"793.513672\" xlink:href=\"#DejaVuSans-119\"/>\n       <use x=\"875.300781\" xlink:href=\"#DejaVuSans-101\"/>\n       <use x=\"936.824219\" xlink:href=\"#DejaVuSans-101\"/>\n       <use x=\"998.347656\" xlink:href=\"#DejaVuSans-107\"/>\n      </g>\n     </g>\n    </g>\n    <g id=\"ytick_11\">\n     <g id=\"line2d_13\">\n      <g>\n       <use style=\"stroke:#000000;stroke-width:0.8;\" x=\"135.7\" xlink:href=\"#mb39f1e18d9\" y=\"145.58\"/>\n      </g>\n     </g>\n     <g id=\"text_13\">\n      <!-- date_timeDayofyear -->\n      <g style=\"fill:#444443;\" transform=\"translate(27.035938 149.379219)scale(0.1 -0.1)\">\n       <use xlink:href=\"#DejaVuSans-100\"/>\n       <use x=\"63.476562\" xlink:href=\"#DejaVuSans-97\"/>\n       <use x=\"124.755859\" xlink:href=\"#DejaVuSans-116\"/>\n       <use x=\"163.964844\" xlink:href=\"#DejaVuSans-101\"/>\n       <use x=\"225.488281\" xlink:href=\"#DejaVuSans-95\"/>\n       <use x=\"275.488281\" xlink:href=\"#DejaVuSans-116\"/>\n       <use x=\"314.697266\" xlink:href=\"#DejaVuSans-105\"/>\n       <use x=\"342.480469\" xlink:href=\"#DejaVuSans-109\"/>\n       <use x=\"439.892578\" xlink:href=\"#DejaVuSans-101\"/>\n       <use x=\"501.416016\" xlink:href=\"#DejaVuSans-68\"/>\n       <use x=\"578.417969\" xlink:href=\"#DejaVuSans-97\"/>\n       <use x=\"639.697266\" xlink:href=\"#DejaVuSans-121\"/>\n       <use x=\"698.876953\" xlink:href=\"#DejaVuSans-111\"/>\n       <use x=\"760.058594\" xlink:href=\"#DejaVuSans-102\"/>\n       <use x=\"793.513672\" xlink:href=\"#DejaVuSans-121\"/>\n       <use x=\"852.693359\" xlink:href=\"#DejaVuSans-101\"/>\n       <use x=\"914.216797\" xlink:href=\"#DejaVuSans-97\"/>\n       <use x=\"975.496094\" xlink:href=\"#DejaVuSans-114\"/>\n      </g>\n     </g>\n    </g>\n    <g id=\"ytick_12\">\n     <g id=\"line2d_14\">\n      <g>\n       <use style=\"stroke:#000000;stroke-width:0.8;\" x=\"135.7\" xlink:href=\"#mb39f1e18d9\" y=\"159.385\"/>\n      </g>\n     </g>\n     <g id=\"text_14\">\n      <!-- date_timeIs_year_start -->\n      <defs>\n       <path d=\"M 9.8125 72.90625 \nL 19.671875 72.90625 \nL 19.671875 0 \nL 9.8125 0 \nz\n\" id=\"DejaVuSans-73\"/>\n      </defs>\n      <g style=\"fill:#444443;\" transform=\"translate(14.798438 163.184219)scale(0.1 -0.1)\">\n       <use xlink:href=\"#DejaVuSans-100\"/>\n       <use x=\"63.476562\" xlink:href=\"#DejaVuSans-97\"/>\n       <use x=\"124.755859\" xlink:href=\"#DejaVuSans-116\"/>\n       <use x=\"163.964844\" xlink:href=\"#DejaVuSans-101\"/>\n       <use x=\"225.488281\" xlink:href=\"#DejaVuSans-95\"/>\n       <use x=\"275.488281\" xlink:href=\"#DejaVuSans-116\"/>\n       <use x=\"314.697266\" xlink:href=\"#DejaVuSans-105\"/>\n       <use x=\"342.480469\" xlink:href=\"#DejaVuSans-109\"/>\n       <use x=\"439.892578\" xlink:href=\"#DejaVuSans-101\"/>\n       <use x=\"501.416016\" xlink:href=\"#DejaVuSans-73\"/>\n       <use x=\"530.908203\" xlink:href=\"#DejaVuSans-115\"/>\n       <use x=\"583.007812\" xlink:href=\"#DejaVuSans-95\"/>\n       <use x=\"633.007812\" xlink:href=\"#DejaVuSans-121\"/>\n       <use x=\"692.1875\" xlink:href=\"#DejaVuSans-101\"/>\n       <use x=\"753.710938\" xlink:href=\"#DejaVuSans-97\"/>\n       <use x=\"814.990234\" xlink:href=\"#DejaVuSans-114\"/>\n       <use x=\"856.103516\" xlink:href=\"#DejaVuSans-95\"/>\n       <use x=\"906.103516\" xlink:href=\"#DejaVuSans-115\"/>\n       <use x=\"958.203125\" xlink:href=\"#DejaVuSans-116\"/>\n       <use x=\"997.412109\" xlink:href=\"#DejaVuSans-97\"/>\n       <use x=\"1058.691406\" xlink:href=\"#DejaVuSans-114\"/>\n       <use x=\"1099.804688\" xlink:href=\"#DejaVuSans-116\"/>\n      </g>\n     </g>\n    </g>\n    <g id=\"ytick_13\">\n     <g id=\"line2d_15\">\n      <g>\n       <use style=\"stroke:#000000;stroke-width:0.8;\" x=\"135.7\" xlink:href=\"#mb39f1e18d9\" y=\"173.19\"/>\n      </g>\n     </g>\n     <g id=\"text_15\">\n      <!-- date_timeMonth -->\n      <defs>\n       <path d=\"M 9.8125 72.90625 \nL 24.515625 72.90625 \nL 43.109375 23.296875 \nL 61.8125 72.90625 \nL 76.515625 72.90625 \nL 76.515625 0 \nL 66.890625 0 \nL 66.890625 64.015625 \nL 48.09375 14.015625 \nL 38.1875 14.015625 \nL 19.390625 64.015625 \nL 19.390625 0 \nL 9.8125 0 \nz\n\" id=\"DejaVuSans-77\"/>\n      </defs>\n      <g style=\"fill:#444443;\" transform=\"translate(47.215625 176.989219)scale(0.1 -0.1)\">\n       <use xlink:href=\"#DejaVuSans-100\"/>\n       <use x=\"63.476562\" xlink:href=\"#DejaVuSans-97\"/>\n       <use x=\"124.755859\" xlink:href=\"#DejaVuSans-116\"/>\n       <use x=\"163.964844\" xlink:href=\"#DejaVuSans-101\"/>\n       <use x=\"225.488281\" xlink:href=\"#DejaVuSans-95\"/>\n       <use x=\"275.488281\" xlink:href=\"#DejaVuSans-116\"/>\n       <use x=\"314.697266\" xlink:href=\"#DejaVuSans-105\"/>\n       <use x=\"342.480469\" xlink:href=\"#DejaVuSans-109\"/>\n       <use x=\"439.892578\" xlink:href=\"#DejaVuSans-101\"/>\n       <use x=\"501.416016\" xlink:href=\"#DejaVuSans-77\"/>\n       <use x=\"587.695312\" xlink:href=\"#DejaVuSans-111\"/>\n       <use x=\"648.876953\" xlink:href=\"#DejaVuSans-110\"/>\n       <use x=\"712.255859\" xlink:href=\"#DejaVuSans-116\"/>\n       <use x=\"751.464844\" xlink:href=\"#DejaVuSans-104\"/>\n      </g>\n     </g>\n    </g>\n    <g id=\"ytick_14\">\n     <g id=\"line2d_16\">\n      <g>\n       <use style=\"stroke:#000000;stroke-width:0.8;\" x=\"135.7\" xlink:href=\"#mb39f1e18d9\" y=\"186.995\"/>\n      </g>\n     </g>\n     <g id=\"text_16\">\n      <!-- date_timeIs_year_end -->\n      <g style=\"fill:#444443;\" transform=\"translate(19.248438 190.794219)scale(0.1 -0.1)\">\n       <use xlink:href=\"#DejaVuSans-100\"/>\n       <use x=\"63.476562\" xlink:href=\"#DejaVuSans-97\"/>\n       <use x=\"124.755859\" xlink:href=\"#DejaVuSans-116\"/>\n       <use x=\"163.964844\" xlink:href=\"#DejaVuSans-101\"/>\n       <use x=\"225.488281\" xlink:href=\"#DejaVuSans-95\"/>\n       <use x=\"275.488281\" xlink:href=\"#DejaVuSans-116\"/>\n       <use x=\"314.697266\" xlink:href=\"#DejaVuSans-105\"/>\n       <use x=\"342.480469\" xlink:href=\"#DejaVuSans-109\"/>\n       <use x=\"439.892578\" xlink:href=\"#DejaVuSans-101\"/>\n       <use x=\"501.416016\" xlink:href=\"#DejaVuSans-73\"/>\n       <use x=\"530.908203\" xlink:href=\"#DejaVuSans-115\"/>\n       <use x=\"583.007812\" xlink:href=\"#DejaVuSans-95\"/>\n       <use x=\"633.007812\" xlink:href=\"#DejaVuSans-121\"/>\n       <use x=\"692.1875\" xlink:href=\"#DejaVuSans-101\"/>\n       <use x=\"753.710938\" xlink:href=\"#DejaVuSans-97\"/>\n       <use x=\"814.990234\" xlink:href=\"#DejaVuSans-114\"/>\n       <use x=\"856.103516\" xlink:href=\"#DejaVuSans-95\"/>\n       <use x=\"906.103516\" xlink:href=\"#DejaVuSans-101\"/>\n       <use x=\"967.626953\" xlink:href=\"#DejaVuSans-110\"/>\n       <use x=\"1031.005859\" xlink:href=\"#DejaVuSans-100\"/>\n      </g>\n     </g>\n    </g>\n    <g id=\"ytick_15\">\n     <g id=\"line2d_17\">\n      <g>\n       <use style=\"stroke:#000000;stroke-width:0.8;\" x=\"135.7\" xlink:href=\"#mb39f1e18d9\" y=\"200.8\"/>\n      </g>\n     </g>\n     <g id=\"text_17\">\n      <!-- date_timeIs_quarter_end -->\n      <defs>\n       <path d=\"M 14.796875 27.296875 \nQ 14.796875 17.390625 18.875 11.75 \nQ 22.953125 6.109375 30.078125 6.109375 \nQ 37.203125 6.109375 41.296875 11.75 \nQ 45.40625 17.390625 45.40625 27.296875 \nQ 45.40625 37.203125 41.296875 42.84375 \nQ 37.203125 48.484375 30.078125 48.484375 \nQ 22.953125 48.484375 18.875 42.84375 \nQ 14.796875 37.203125 14.796875 27.296875 \nz\nM 45.40625 8.203125 \nQ 42.578125 3.328125 38.25 0.953125 \nQ 33.9375 -1.421875 27.875 -1.421875 \nQ 17.96875 -1.421875 11.734375 6.484375 \nQ 5.515625 14.40625 5.515625 27.296875 \nQ 5.515625 40.1875 11.734375 48.09375 \nQ 17.96875 56 27.875 56 \nQ 33.9375 56 38.25 53.625 \nQ 42.578125 51.265625 45.40625 46.390625 \nL 45.40625 54.6875 \nL 54.390625 54.6875 \nL 54.390625 -20.796875 \nL 45.40625 -20.796875 \nz\n\" id=\"DejaVuSans-113\"/>\n      </defs>\n      <g style=\"fill:#444443;\" transform=\"translate(4.45 204.599219)scale(0.1 -0.1)\">\n       <use xlink:href=\"#DejaVuSans-100\"/>\n       <use x=\"63.476562\" xlink:href=\"#DejaVuSans-97\"/>\n       <use x=\"124.755859\" xlink:href=\"#DejaVuSans-116\"/>\n       <use x=\"163.964844\" xlink:href=\"#DejaVuSans-101\"/>\n       <use x=\"225.488281\" xlink:href=\"#DejaVuSans-95\"/>\n       <use x=\"275.488281\" xlink:href=\"#DejaVuSans-116\"/>\n       <use x=\"314.697266\" xlink:href=\"#DejaVuSans-105\"/>\n       <use x=\"342.480469\" xlink:href=\"#DejaVuSans-109\"/>\n       <use x=\"439.892578\" xlink:href=\"#DejaVuSans-101\"/>\n       <use x=\"501.416016\" xlink:href=\"#DejaVuSans-73\"/>\n       <use x=\"530.908203\" xlink:href=\"#DejaVuSans-115\"/>\n       <use x=\"583.007812\" xlink:href=\"#DejaVuSans-95\"/>\n       <use x=\"633.007812\" xlink:href=\"#DejaVuSans-113\"/>\n       <use x=\"696.484375\" xlink:href=\"#DejaVuSans-117\"/>\n       <use x=\"759.863281\" xlink:href=\"#DejaVuSans-97\"/>\n       <use x=\"821.142578\" xlink:href=\"#DejaVuSans-114\"/>\n       <use x=\"862.255859\" xlink:href=\"#DejaVuSans-116\"/>\n       <use x=\"901.464844\" xlink:href=\"#DejaVuSans-101\"/>\n       <use x=\"962.988281\" xlink:href=\"#DejaVuSans-114\"/>\n       <use x=\"1004.101562\" xlink:href=\"#DejaVuSans-95\"/>\n       <use x=\"1054.101562\" xlink:href=\"#DejaVuSans-101\"/>\n       <use x=\"1115.625\" xlink:href=\"#DejaVuSans-110\"/>\n       <use x=\"1179.003906\" xlink:href=\"#DejaVuSans-100\"/>\n      </g>\n     </g>\n    </g>\n    <g id=\"ytick_16\">\n     <g id=\"line2d_18\">\n      <g>\n       <use style=\"stroke:#000000;stroke-width:0.8;\" x=\"135.7\" xlink:href=\"#mb39f1e18d9\" y=\"214.605\"/>\n      </g>\n     </g>\n     <g id=\"text_18\">\n      <!-- date_timeIs_month_start -->\n      <g style=\"fill:#444443;\" transform=\"translate(4.654688 218.404219)scale(0.1 -0.1)\">\n       <use xlink:href=\"#DejaVuSans-100\"/>\n       <use x=\"63.476562\" xlink:href=\"#DejaVuSans-97\"/>\n       <use x=\"124.755859\" xlink:href=\"#DejaVuSans-116\"/>\n       <use x=\"163.964844\" xlink:href=\"#DejaVuSans-101\"/>\n       <use x=\"225.488281\" xlink:href=\"#DejaVuSans-95\"/>\n       <use x=\"275.488281\" xlink:href=\"#DejaVuSans-116\"/>\n       <use x=\"314.697266\" xlink:href=\"#DejaVuSans-105\"/>\n       <use x=\"342.480469\" xlink:href=\"#DejaVuSans-109\"/>\n       <use x=\"439.892578\" xlink:href=\"#DejaVuSans-101\"/>\n       <use x=\"501.416016\" xlink:href=\"#DejaVuSans-73\"/>\n       <use x=\"530.908203\" xlink:href=\"#DejaVuSans-115\"/>\n       <use x=\"583.007812\" xlink:href=\"#DejaVuSans-95\"/>\n       <use x=\"633.007812\" xlink:href=\"#DejaVuSans-109\"/>\n       <use x=\"730.419922\" xlink:href=\"#DejaVuSans-111\"/>\n       <use x=\"791.601562\" xlink:href=\"#DejaVuSans-110\"/>\n       <use x=\"854.980469\" xlink:href=\"#DejaVuSans-116\"/>\n       <use x=\"894.189453\" xlink:href=\"#DejaVuSans-104\"/>\n       <use x=\"957.568359\" xlink:href=\"#DejaVuSans-95\"/>\n       <use x=\"1007.568359\" xlink:href=\"#DejaVuSans-115\"/>\n       <use x=\"1059.667969\" xlink:href=\"#DejaVuSans-116\"/>\n       <use x=\"1098.876953\" xlink:href=\"#DejaVuSans-97\"/>\n       <use x=\"1160.15625\" xlink:href=\"#DejaVuSans-114\"/>\n       <use x=\"1201.269531\" xlink:href=\"#DejaVuSans-116\"/>\n      </g>\n     </g>\n    </g>\n    <g id=\"ytick_17\">\n     <g id=\"line2d_19\">\n      <g>\n       <use style=\"stroke:#000000;stroke-width:0.8;\" x=\"135.7\" xlink:href=\"#mb39f1e18d9\" y=\"228.41\"/>\n      </g>\n     </g>\n     <g id=\"text_19\">\n      <!-- date_timeIs_quarter_start -->\n      <g style=\"fill:#444443;\" transform=\"translate(0 232.209219)scale(0.1 -0.1)\">\n       <use xlink:href=\"#DejaVuSans-100\"/>\n       <use x=\"63.476562\" xlink:href=\"#DejaVuSans-97\"/>\n       <use x=\"124.755859\" xlink:href=\"#DejaVuSans-116\"/>\n       <use x=\"163.964844\" xlink:href=\"#DejaVuSans-101\"/>\n       <use x=\"225.488281\" xlink:href=\"#DejaVuSans-95\"/>\n       <use x=\"275.488281\" xlink:href=\"#DejaVuSans-116\"/>\n       <use x=\"314.697266\" xlink:href=\"#DejaVuSans-105\"/>\n       <use x=\"342.480469\" xlink:href=\"#DejaVuSans-109\"/>\n       <use x=\"439.892578\" xlink:href=\"#DejaVuSans-101\"/>\n       <use x=\"501.416016\" xlink:href=\"#DejaVuSans-73\"/>\n       <use x=\"530.908203\" xlink:href=\"#DejaVuSans-115\"/>\n       <use x=\"583.007812\" xlink:href=\"#DejaVuSans-95\"/>\n       <use x=\"633.007812\" xlink:href=\"#DejaVuSans-113\"/>\n       <use x=\"696.484375\" xlink:href=\"#DejaVuSans-117\"/>\n       <use x=\"759.863281\" xlink:href=\"#DejaVuSans-97\"/>\n       <use x=\"821.142578\" xlink:href=\"#DejaVuSans-114\"/>\n       <use x=\"862.255859\" xlink:href=\"#DejaVuSans-116\"/>\n       <use x=\"901.464844\" xlink:href=\"#DejaVuSans-101\"/>\n       <use x=\"962.988281\" xlink:href=\"#DejaVuSans-114\"/>\n       <use x=\"1004.101562\" xlink:href=\"#DejaVuSans-95\"/>\n       <use x=\"1054.101562\" xlink:href=\"#DejaVuSans-115\"/>\n       <use x=\"1106.201172\" xlink:href=\"#DejaVuSans-116\"/>\n       <use x=\"1145.410156\" xlink:href=\"#DejaVuSans-97\"/>\n       <use x=\"1206.689453\" xlink:href=\"#DejaVuSans-114\"/>\n       <use x=\"1247.802734\" xlink:href=\"#DejaVuSans-116\"/>\n      </g>\n     </g>\n    </g>\n    <g id=\"ytick_18\">\n     <g id=\"line2d_20\">\n      <g>\n       <use style=\"stroke:#000000;stroke-width:0.8;\" x=\"135.7\" xlink:href=\"#mb39f1e18d9\" y=\"242.215\"/>\n      </g>\n     </g>\n     <g id=\"text_20\">\n      <!-- date_timeYear -->\n      <defs>\n       <path d=\"M -0.203125 72.90625 \nL 10.40625 72.90625 \nL 30.609375 42.921875 \nL 50.6875 72.90625 \nL 61.28125 72.90625 \nL 35.5 34.71875 \nL 35.5 0 \nL 25.59375 0 \nL 25.59375 34.71875 \nz\n\" id=\"DejaVuSans-89\"/>\n      </defs>\n      <g style=\"fill:#444443;\" transform=\"translate(57.382813 246.014219)scale(0.1 -0.1)\">\n       <use xlink:href=\"#DejaVuSans-100\"/>\n       <use x=\"63.476562\" xlink:href=\"#DejaVuSans-97\"/>\n       <use x=\"124.755859\" xlink:href=\"#DejaVuSans-116\"/>\n       <use x=\"163.964844\" xlink:href=\"#DejaVuSans-101\"/>\n       <use x=\"225.488281\" xlink:href=\"#DejaVuSans-95\"/>\n       <use x=\"275.488281\" xlink:href=\"#DejaVuSans-116\"/>\n       <use x=\"314.697266\" xlink:href=\"#DejaVuSans-105\"/>\n       <use x=\"342.480469\" xlink:href=\"#DejaVuSans-109\"/>\n       <use x=\"439.892578\" xlink:href=\"#DejaVuSans-101\"/>\n       <use x=\"501.416016\" xlink:href=\"#DejaVuSans-89\"/>\n       <use x=\"549.25\" xlink:href=\"#DejaVuSans-101\"/>\n       <use x=\"610.773438\" xlink:href=\"#DejaVuSans-97\"/>\n       <use x=\"672.052734\" xlink:href=\"#DejaVuSans-114\"/>\n      </g>\n     </g>\n    </g>\n    <g id=\"ytick_19\">\n     <g id=\"line2d_21\">\n      <g>\n       <use style=\"stroke:#000000;stroke-width:0.8;\" x=\"135.7\" xlink:href=\"#mb39f1e18d9\" y=\"256.02\"/>\n      </g>\n     </g>\n     <g id=\"text_21\">\n      <!-- date_timeIs_month_end -->\n      <g style=\"fill:#444443;\" transform=\"translate(9.104688 259.819219)scale(0.1 -0.1)\">\n       <use xlink:href=\"#DejaVuSans-100\"/>\n       <use x=\"63.476562\" xlink:href=\"#DejaVuSans-97\"/>\n       <use x=\"124.755859\" xlink:href=\"#DejaVuSans-116\"/>\n       <use x=\"163.964844\" xlink:href=\"#DejaVuSans-101\"/>\n       <use x=\"225.488281\" xlink:href=\"#DejaVuSans-95\"/>\n       <use x=\"275.488281\" xlink:href=\"#DejaVuSans-116\"/>\n       <use x=\"314.697266\" xlink:href=\"#DejaVuSans-105\"/>\n       <use x=\"342.480469\" xlink:href=\"#DejaVuSans-109\"/>\n       <use x=\"439.892578\" xlink:href=\"#DejaVuSans-101\"/>\n       <use x=\"501.416016\" xlink:href=\"#DejaVuSans-73\"/>\n       <use x=\"530.908203\" xlink:href=\"#DejaVuSans-115\"/>\n       <use x=\"583.007812\" xlink:href=\"#DejaVuSans-95\"/>\n       <use x=\"633.007812\" xlink:href=\"#DejaVuSans-109\"/>\n       <use x=\"730.419922\" xlink:href=\"#DejaVuSans-111\"/>\n       <use x=\"791.601562\" xlink:href=\"#DejaVuSans-110\"/>\n       <use x=\"854.980469\" xlink:href=\"#DejaVuSans-116\"/>\n       <use x=\"894.189453\" xlink:href=\"#DejaVuSans-104\"/>\n       <use x=\"957.568359\" xlink:href=\"#DejaVuSans-95\"/>\n       <use x=\"1007.568359\" xlink:href=\"#DejaVuSans-101\"/>\n       <use x=\"1069.091797\" xlink:href=\"#DejaVuSans-110\"/>\n       <use x=\"1132.470703\" xlink:href=\"#DejaVuSans-100\"/>\n      </g>\n     </g>\n    </g>\n    <g id=\"ytick_20\">\n     <g id=\"line2d_22\">\n      <g>\n       <use style=\"stroke:#000000;stroke-width:0.8;\" x=\"135.7\" xlink:href=\"#mb39f1e18d9\" y=\"269.825\"/>\n      </g>\n     </g>\n     <g id=\"text_22\">\n      <!-- date_timeElapsed -->\n      <defs>\n       <path d=\"M 9.8125 72.90625 \nL 55.90625 72.90625 \nL 55.90625 64.59375 \nL 19.671875 64.59375 \nL 19.671875 43.015625 \nL 54.390625 43.015625 \nL 54.390625 34.71875 \nL 19.671875 34.71875 \nL 19.671875 8.296875 \nL 56.78125 8.296875 \nL 56.78125 0 \nL 9.8125 0 \nz\n\" id=\"DejaVuSans-69\"/>\n       <path d=\"M 18.109375 8.203125 \nL 18.109375 -20.796875 \nL 9.078125 -20.796875 \nL 9.078125 54.6875 \nL 18.109375 54.6875 \nL 18.109375 46.390625 \nQ 20.953125 51.265625 25.265625 53.625 \nQ 29.59375 56 35.59375 56 \nQ 45.5625 56 51.78125 48.09375 \nQ 58.015625 40.1875 58.015625 27.296875 \nQ 58.015625 14.40625 51.78125 6.484375 \nQ 45.5625 -1.421875 35.59375 -1.421875 \nQ 29.59375 -1.421875 25.265625 0.953125 \nQ 20.953125 3.328125 18.109375 8.203125 \nz\nM 48.6875 27.296875 \nQ 48.6875 37.203125 44.609375 42.84375 \nQ 40.53125 48.484375 33.40625 48.484375 \nQ 26.265625 48.484375 22.1875 42.84375 \nQ 18.109375 37.203125 18.109375 27.296875 \nQ 18.109375 17.390625 22.1875 11.75 \nQ 26.265625 6.109375 33.40625 6.109375 \nQ 40.53125 6.109375 44.609375 11.75 \nQ 48.6875 17.390625 48.6875 27.296875 \nz\n\" id=\"DejaVuSans-112\"/>\n      </defs>\n      <g style=\"fill:#444443;\" transform=\"translate(39.273438 273.624219)scale(0.1 -0.1)\">\n       <use xlink:href=\"#DejaVuSans-100\"/>\n       <use x=\"63.476562\" xlink:href=\"#DejaVuSans-97\"/>\n       <use x=\"124.755859\" xlink:href=\"#DejaVuSans-116\"/>\n       <use x=\"163.964844\" xlink:href=\"#DejaVuSans-101\"/>\n       <use x=\"225.488281\" xlink:href=\"#DejaVuSans-95\"/>\n       <use x=\"275.488281\" xlink:href=\"#DejaVuSans-116\"/>\n       <use x=\"314.697266\" xlink:href=\"#DejaVuSans-105\"/>\n       <use x=\"342.480469\" xlink:href=\"#DejaVuSans-109\"/>\n       <use x=\"439.892578\" xlink:href=\"#DejaVuSans-101\"/>\n       <use x=\"501.416016\" xlink:href=\"#DejaVuSans-69\"/>\n       <use x=\"564.599609\" xlink:href=\"#DejaVuSans-108\"/>\n       <use x=\"592.382812\" xlink:href=\"#DejaVuSans-97\"/>\n       <use x=\"653.662109\" xlink:href=\"#DejaVuSans-112\"/>\n       <use x=\"717.138672\" xlink:href=\"#DejaVuSans-115\"/>\n       <use x=\"769.238281\" xlink:href=\"#DejaVuSans-101\"/>\n       <use x=\"830.761719\" xlink:href=\"#DejaVuSans-100\"/>\n      </g>\n     </g>\n    </g>\n    <g id=\"ytick_21\">\n     <g id=\"line2d_23\">\n      <g>\n       <use style=\"stroke:#000000;stroke-width:0.8;\" x=\"135.7\" xlink:href=\"#mb39f1e18d9\" y=\"283.63\"/>\n      </g>\n     </g>\n     <g id=\"text_23\">\n      <!-- date_timeWeek -->\n      <defs>\n       <path d=\"M 3.328125 72.90625 \nL 13.28125 72.90625 \nL 28.609375 11.28125 \nL 43.890625 72.90625 \nL 54.984375 72.90625 \nL 70.3125 11.28125 \nL 85.59375 72.90625 \nL 95.609375 72.90625 \nL 77.296875 0 \nL 64.890625 0 \nL 49.515625 63.28125 \nL 33.984375 0 \nL 21.578125 0 \nz\n\" id=\"DejaVuSans-87\"/>\n      </defs>\n      <g style=\"fill:#444443;\" transform=\"translate(51.160938 287.429219)scale(0.1 -0.1)\">\n       <use xlink:href=\"#DejaVuSans-100\"/>\n       <use x=\"63.476562\" xlink:href=\"#DejaVuSans-97\"/>\n       <use x=\"124.755859\" xlink:href=\"#DejaVuSans-116\"/>\n       <use x=\"163.964844\" xlink:href=\"#DejaVuSans-101\"/>\n       <use x=\"225.488281\" xlink:href=\"#DejaVuSans-95\"/>\n       <use x=\"275.488281\" xlink:href=\"#DejaVuSans-116\"/>\n       <use x=\"314.697266\" xlink:href=\"#DejaVuSans-105\"/>\n       <use x=\"342.480469\" xlink:href=\"#DejaVuSans-109\"/>\n       <use x=\"439.892578\" xlink:href=\"#DejaVuSans-101\"/>\n       <use x=\"501.416016\" xlink:href=\"#DejaVuSans-87\"/>\n       <use x=\"594.417969\" xlink:href=\"#DejaVuSans-101\"/>\n       <use x=\"655.941406\" xlink:href=\"#DejaVuSans-101\"/>\n       <use x=\"717.464844\" xlink:href=\"#DejaVuSans-107\"/>\n      </g>\n     </g>\n    </g>\n   </g>\n   <g id=\"patch_24\">\n    <path d=\"M 135.7 291.16 \nL 135.7 0 \n\" style=\"fill:none;stroke:#000000;stroke-linecap:square;stroke-linejoin:miter;stroke-width:0.3;\"/>\n   </g>\n   <g id=\"patch_25\">\n    <path d=\"M 251.2175 291.16 \nL 251.2175 0 \n\" style=\"fill:none;stroke:#000000;stroke-linecap:square;stroke-linejoin:miter;stroke-width:0.3;\"/>\n   </g>\n   <g id=\"patch_26\">\n    <path d=\"M 135.7 291.16 \nL 251.2175 291.16 \n\" style=\"fill:none;stroke:#000000;stroke-linecap:square;stroke-linejoin:miter;stroke-width:0.3;\"/>\n   </g>\n   <g id=\"patch_27\">\n    <path d=\"M 135.7 0 \nL 251.2175 0 \n\" style=\"fill:none;stroke:#000000;stroke-linecap:square;stroke-linejoin:miter;stroke-width:0.3;\"/>\n   </g>\n  </g>\n </g>\n <defs>\n  <clipPath id=\"pd3c4cdd613\">\n   <rect height=\"291.16\" width=\"115.5175\" x=\"135.7\" y=\"0\"/>\n  </clipPath>\n </defs>\n</svg>\n"
          },
          "metadata": {},
          "execution_count": 40
        }
      ]
    },
    {
      "cell_type": "markdown",
      "source": [
        "###XGBoost"
      ],
      "metadata": {
        "id": "zJyTq7aomAhb"
      }
    },
    {
      "cell_type": "code",
      "source": [
        "m2=xgbreg(n_estimators=100,learning_rate = .1,max_depth = 6,n_jobs = -1,\n",
        "      early_stopping_rounds=10,subsample=0.5)\n",
        "xgb_preds=implement(m2,to)\n",
        "m2.importance()"
      ],
      "metadata": {
        "colab": {
          "base_uri": "https://localhost:8080/",
          "height": 461
        },
        "id": "7Hg7IwvOvdZR",
        "outputId": "40c3fb15-30fa-4374-a9c9-bb36bfbf2854"
      },
      "execution_count": null,
      "outputs": [
        {
          "output_type": "stream",
          "name": "stdout",
          "text": [
            "[20:32:58] WARNING: /workspace/src/objective/regression_obj.cu:152: reg:linear is now deprecated in favor of reg:squarederror.\n",
            "train>>>\n",
            "mse:   0.067474\n",
            "accuracy:   0.932526\n",
            "valid>>>\n",
            "mse:   0.33024\n",
            "accuracy:   0.66976\n"
          ]
        },
        {
          "output_type": "execute_result",
          "data": {
            "text/plain": [
              "<matplotlib.axes._subplots.AxesSubplot at 0x7f5a70c5baf0>"
            ]
          },
          "metadata": {},
          "execution_count": 41
        },
        {
          "output_type": "display_data",
          "data": {
            "text/plain": [
              "<Figure size 432x288 with 1 Axes>"
            ],
            "image/png": "[encoded data removed]"
          },
          "metadata": {
            "needs_background": "light"
          }
        }
      ]
    },
    {
      "cell_type": "markdown",
      "source": [
        "###Neural Netwoks"
      ],
      "metadata": {
        "id": "iWS1pQ79mH9Z"
      }
    },
    {
      "cell_type": "code",
      "source": [
        "m3=NN(to)\n",
        "print(m3.learn.summary())\n",
        "m3.learn.lr_find()"
      ],
      "metadata": {
        "colab": {
          "base_uri": "https://localhost:8080/",
          "height": 1000
        },
        "id": "xHZhfhMqqn0h",
        "outputId": "5f8d131a-ebef-4be9-8a34-1c34681e7c2d"
      },
      "execution_count": null,
      "outputs": [
        {
          "output_type": "display_data",
          "data": {
            "text/plain": [
              "<IPython.core.display.HTML object>"
            ],
            "text/html": [
              "\n",
              "<style>\n",
              "    /* Turns off some styling */\n",
              "    progress {\n",
              "        /* gets rid of default border in Firefox and Opera. */\n",
              "        border: none;\n",
              "        /* Needs to be in here for Safari polyfill so background images work as expected. */\n",
              "        background-size: auto;\n",
              "    }\n",
              "    progress:not([value]), progress:not([value])::-webkit-progress-bar {\n",
              "        background: repeating-linear-gradient(45deg, #7e7e7e, #7e7e7e 10px, #5c5c5c 10px, #5c5c5c 20px);\n",
              "    }\n",
              "    .progress-bar-interrupted, .progress-bar-interrupted::-webkit-progress-bar {\n",
              "        background: #F44336;\n",
              "    }\n",
              "</style>\n"
            ]
          },
          "metadata": {}
        },
        {
          "output_type": "display_data",
          "data": {
            "text/plain": [
              "<IPython.core.display.HTML object>"
            ],
            "text/html": []
          },
          "metadata": {}
        },
        {
          "output_type": "stream",
          "name": "stdout",
          "text": [
            "TabularModel (Input shape: 64 x 11)\n",
            "============================================================================\n",
            "Layer (type)         Output Shape         Param #    Trainable \n",
            "============================================================================\n",
            "                     64 x 2              \n",
            "Embedding                                 4          True      \n",
            "____________________________________________________________________________\n",
            "                     64 x 6              \n",
            "Embedding                                 60         True      \n",
            "____________________________________________________________________________\n",
            "                     64 x 13             \n",
            "Embedding                                 520        True      \n",
            "____________________________________________________________________________\n",
            "                     64 x 11             \n",
            "Embedding                                 352        True      \n",
            "____________________________________________________________________________\n",
            "                     64 x 5              \n",
            "Embedding                                 40         True      \n",
            "____________________________________________________________________________\n",
            "                     64 x 3              \n",
            "Embedding                                 9          True      \n",
            "Embedding                                 9          True      \n",
            "Embedding                                 9          True      \n",
            "Embedding                                 9          True      \n",
            "____________________________________________________________________________\n",
            "                     64 x 2              \n",
            "Embedding                                 4          True      \n",
            "Embedding                                 4          True      \n",
            "Dropout                                                        \n",
            "BatchNorm1d                               20         True      \n",
            "____________________________________________________________________________\n",
            "                     64 x 200            \n",
            "Linear                                    12600      True      \n",
            "ReLU                                                           \n",
            "BatchNorm1d                               400        True      \n",
            "Dropout                                                        \n",
            "____________________________________________________________________________\n",
            "                     64 x 100            \n",
            "Linear                                    20000      True      \n",
            "ReLU                                                           \n",
            "BatchNorm1d                               200        True      \n",
            "Dropout                                                        \n",
            "____________________________________________________________________________\n",
            "                     64 x 1              \n",
            "Linear                                    101        True      \n",
            "SigmoidRange                                                   \n",
            "____________________________________________________________________________\n",
            "\n",
            "Total params: 34,341\n",
            "Total trainable params: 34,341\n",
            "Total non-trainable params: 0\n",
            "\n",
            "Optimizer used: <function Adam at 0x7f5a74c391f0>\n",
            "Loss function: <function mse_loss at 0x7f5a87811700>\n",
            "\n",
            "Callbacks:\n",
            "  - TrainEvalCallback\n",
            "  - CastToTensor\n",
            "  - Recorder\n",
            "  - ProgressCallback\n"
          ]
        },
        {
          "output_type": "display_data",
          "data": {
            "text/plain": [
              "<IPython.core.display.HTML object>"
            ],
            "text/html": [
              "\n",
              "<style>\n",
              "    /* Turns off some styling */\n",
              "    progress {\n",
              "        /* gets rid of default border in Firefox and Opera. */\n",
              "        border: none;\n",
              "        /* Needs to be in here for Safari polyfill so background images work as expected. */\n",
              "        background-size: auto;\n",
              "    }\n",
              "    progress:not([value]), progress:not([value])::-webkit-progress-bar {\n",
              "        background: repeating-linear-gradient(45deg, #7e7e7e, #7e7e7e 10px, #5c5c5c 10px, #5c5c5c 20px);\n",
              "    }\n",
              "    .progress-bar-interrupted, .progress-bar-interrupted::-webkit-progress-bar {\n",
              "        background: #F44336;\n",
              "    }\n",
              "</style>\n"
            ]
          },
          "metadata": {}
        },
        {
          "output_type": "display_data",
          "data": {
            "text/plain": [
              "<IPython.core.display.HTML object>"
            ],
            "text/html": []
          },
          "metadata": {}
        },
        {
          "output_type": "execute_result",
          "data": {
            "text/plain": [
              "SuggestedLRs(valley=0.001737800776027143)"
            ]
          },
          "metadata": {},
          "execution_count": 27
        },
        {
          "output_type": "display_data",
          "data": {
            "text/plain": [
              "<Figure size 432x288 with 1 Axes>"
            ],
            "image/png": "[encoded data removed]"
          },
          "metadata": {
            "needs_background": "light"
          }
        }
      ]
    },
    {
      "cell_type": "code",
      "source": [
        "m3.train(lr=3e-3)\n",
        "m3.importance()\n",
        "NN_preds=m3.predict()\n",
        "m3.learn.validate()"
      ],
      "metadata": {
        "id": "zDo-EqhfCLAP",
        "colab": {
          "base_uri": "https://localhost:8080/",
          "height": 1000
        },
        "outputId": "704b7c60-06de-4658-d61b-c61e8679ad1d"
      },
      "execution_count": null,
      "outputs": [
        {
          "output_type": "display_data",
          "data": {
            "text/plain": [
              "<IPython.core.display.HTML object>"
            ],
            "text/html": [
              "\n",
              "<style>\n",
              "    /* Turns off some styling */\n",
              "    progress {\n",
              "        /* gets rid of default border in Firefox and Opera. */\n",
              "        border: none;\n",
              "        /* Needs to be in here for Safari polyfill so background images work as expected. */\n",
              "        background-size: auto;\n",
              "    }\n",
              "    progress:not([value]), progress:not([value])::-webkit-progress-bar {\n",
              "        background: repeating-linear-gradient(45deg, #7e7e7e, #7e7e7e 10px, #5c5c5c 10px, #5c5c5c 20px);\n",
              "    }\n",
              "    .progress-bar-interrupted, .progress-bar-interrupted::-webkit-progress-bar {\n",
              "        background: #F44336;\n",
              "    }\n",
              "</style>\n"
            ]
          },
          "metadata": {}
        },
        {
          "output_type": "display_data",
          "data": {
            "text/plain": [
              "<IPython.core.display.HTML object>"
            ],
            "text/html": [
              "<table border=\"1\" class=\"dataframe\">\n",
              "  <thead>\n",
              "    <tr style=\"text-align: left;\">\n",
              "      <th>epoch</th>\n",
              "      <th>train_loss</th>\n",
              "      <th>valid_loss</th>\n",
              "      <th>_rmse</th>\n",
              "      <th>time</th>\n",
              "    </tr>\n",
              "  </thead>\n",
              "  <tbody>\n",
              "    <tr>\n",
              "      <td>0</td>\n",
              "      <td>0.213086</td>\n",
              "      <td>0.224942</td>\n",
              "      <td>0.474280</td>\n",
              "      <td>00:01</td>\n",
              "    </tr>\n",
              "    <tr>\n",
              "      <td>1</td>\n",
              "      <td>0.145501</td>\n",
              "      <td>0.201007</td>\n",
              "      <td>0.448338</td>\n",
              "      <td>00:01</td>\n",
              "    </tr>\n",
              "    <tr>\n",
              "      <td>2</td>\n",
              "      <td>0.076507</td>\n",
              "      <td>0.093799</td>\n",
              "      <td>0.306267</td>\n",
              "      <td>00:01</td>\n",
              "    </tr>\n",
              "    <tr>\n",
              "      <td>3</td>\n",
              "      <td>0.035578</td>\n",
              "      <td>0.060543</td>\n",
              "      <td>0.246055</td>\n",
              "      <td>00:01</td>\n",
              "    </tr>\n",
              "    <tr>\n",
              "      <td>4</td>\n",
              "      <td>0.022677</td>\n",
              "      <td>0.085153</td>\n",
              "      <td>0.291810</td>\n",
              "      <td>00:01</td>\n",
              "    </tr>\n",
              "    <tr>\n",
              "      <td>5</td>\n",
              "      <td>0.023709</td>\n",
              "      <td>0.071757</td>\n",
              "      <td>0.267876</td>\n",
              "      <td>00:01</td>\n",
              "    </tr>\n",
              "    <tr>\n",
              "      <td>6</td>\n",
              "      <td>0.020704</td>\n",
              "      <td>0.058296</td>\n",
              "      <td>0.241445</td>\n",
              "      <td>00:01</td>\n",
              "    </tr>\n",
              "    <tr>\n",
              "      <td>7</td>\n",
              "      <td>0.020039</td>\n",
              "      <td>0.101332</td>\n",
              "      <td>0.318326</td>\n",
              "      <td>00:01</td>\n",
              "    </tr>\n",
              "    <tr>\n",
              "      <td>8</td>\n",
              "      <td>0.019911</td>\n",
              "      <td>0.109090</td>\n",
              "      <td>0.330288</td>\n",
              "      <td>00:01</td>\n",
              "    </tr>\n",
              "    <tr>\n",
              "      <td>9</td>\n",
              "      <td>0.019367</td>\n",
              "      <td>0.114272</td>\n",
              "      <td>0.338042</td>\n",
              "      <td>00:01</td>\n",
              "    </tr>\n",
              "    <tr>\n",
              "      <td>10</td>\n",
              "      <td>0.018970</td>\n",
              "      <td>0.183206</td>\n",
              "      <td>0.428025</td>\n",
              "      <td>00:01</td>\n",
              "    </tr>\n",
              "    <tr>\n",
              "      <td>11</td>\n",
              "      <td>0.017386</td>\n",
              "      <td>0.085675</td>\n",
              "      <td>0.292704</td>\n",
              "      <td>00:01</td>\n",
              "    </tr>\n",
              "    <tr>\n",
              "      <td>12</td>\n",
              "      <td>0.017491</td>\n",
              "      <td>0.159093</td>\n",
              "      <td>0.398864</td>\n",
              "      <td>00:01</td>\n",
              "    </tr>\n",
              "    <tr>\n",
              "      <td>13</td>\n",
              "      <td>0.015976</td>\n",
              "      <td>0.094648</td>\n",
              "      <td>0.307649</td>\n",
              "      <td>00:01</td>\n",
              "    </tr>\n",
              "    <tr>\n",
              "      <td>14</td>\n",
              "      <td>0.015670</td>\n",
              "      <td>0.117667</td>\n",
              "      <td>0.343026</td>\n",
              "      <td>00:01</td>\n",
              "    </tr>\n",
              "    <tr>\n",
              "      <td>15</td>\n",
              "      <td>0.015180</td>\n",
              "      <td>0.123001</td>\n",
              "      <td>0.350715</td>\n",
              "      <td>00:01</td>\n",
              "    </tr>\n",
              "    <tr>\n",
              "      <td>16</td>\n",
              "      <td>0.014234</td>\n",
              "      <td>0.087062</td>\n",
              "      <td>0.295063</td>\n",
              "      <td>00:01</td>\n",
              "    </tr>\n",
              "    <tr>\n",
              "      <td>17</td>\n",
              "      <td>0.014764</td>\n",
              "      <td>0.120151</td>\n",
              "      <td>0.346628</td>\n",
              "      <td>00:01</td>\n",
              "    </tr>\n",
              "    <tr>\n",
              "      <td>18</td>\n",
              "      <td>0.013998</td>\n",
              "      <td>0.141250</td>\n",
              "      <td>0.375832</td>\n",
              "      <td>00:01</td>\n",
              "    </tr>\n",
              "    <tr>\n",
              "      <td>19</td>\n",
              "      <td>0.014043</td>\n",
              "      <td>0.094745</td>\n",
              "      <td>0.307807</td>\n",
              "      <td>00:01</td>\n",
              "    </tr>\n",
              "    <tr>\n",
              "      <td>20</td>\n",
              "      <td>0.014427</td>\n",
              "      <td>0.109567</td>\n",
              "      <td>0.331009</td>\n",
              "      <td>00:01</td>\n",
              "    </tr>\n",
              "    <tr>\n",
              "      <td>21</td>\n",
              "      <td>0.012752</td>\n",
              "      <td>0.111274</td>\n",
              "      <td>0.333578</td>\n",
              "      <td>00:01</td>\n",
              "    </tr>\n",
              "    <tr>\n",
              "      <td>22</td>\n",
              "      <td>0.013801</td>\n",
              "      <td>0.103305</td>\n",
              "      <td>0.321410</td>\n",
              "      <td>00:01</td>\n",
              "    </tr>\n",
              "    <tr>\n",
              "      <td>23</td>\n",
              "      <td>0.013408</td>\n",
              "      <td>0.121143</td>\n",
              "      <td>0.348057</td>\n",
              "      <td>00:01</td>\n",
              "    </tr>\n",
              "    <tr>\n",
              "      <td>24</td>\n",
              "      <td>0.012021</td>\n",
              "      <td>0.096052</td>\n",
              "      <td>0.309923</td>\n",
              "      <td>00:01</td>\n",
              "    </tr>\n",
              "    <tr>\n",
              "      <td>25</td>\n",
              "      <td>0.012667</td>\n",
              "      <td>0.117825</td>\n",
              "      <td>0.343257</td>\n",
              "      <td>00:01</td>\n",
              "    </tr>\n",
              "    <tr>\n",
              "      <td>26</td>\n",
              "      <td>0.013020</td>\n",
              "      <td>0.097130</td>\n",
              "      <td>0.311656</td>\n",
              "      <td>00:01</td>\n",
              "    </tr>\n",
              "    <tr>\n",
              "      <td>27</td>\n",
              "      <td>0.012106</td>\n",
              "      <td>0.090951</td>\n",
              "      <td>0.301580</td>\n",
              "      <td>00:01</td>\n",
              "    </tr>\n",
              "    <tr>\n",
              "      <td>28</td>\n",
              "      <td>0.011928</td>\n",
              "      <td>0.129971</td>\n",
              "      <td>0.360515</td>\n",
              "      <td>00:01</td>\n",
              "    </tr>\n",
              "    <tr>\n",
              "      <td>29</td>\n",
              "      <td>0.011098</td>\n",
              "      <td>0.113529</td>\n",
              "      <td>0.336941</td>\n",
              "      <td>00:01</td>\n",
              "    </tr>\n",
              "    <tr>\n",
              "      <td>30</td>\n",
              "      <td>0.011814</td>\n",
              "      <td>0.087036</td>\n",
              "      <td>0.295018</td>\n",
              "      <td>00:01</td>\n",
              "    </tr>\n",
              "    <tr>\n",
              "      <td>31</td>\n",
              "      <td>0.011476</td>\n",
              "      <td>0.108938</td>\n",
              "      <td>0.330058</td>\n",
              "      <td>00:01</td>\n",
              "    </tr>\n",
              "    <tr>\n",
              "      <td>32</td>\n",
              "      <td>0.010273</td>\n",
              "      <td>0.087866</td>\n",
              "      <td>0.296422</td>\n",
              "      <td>00:01</td>\n",
              "    </tr>\n",
              "    <tr>\n",
              "      <td>33</td>\n",
              "      <td>0.011255</td>\n",
              "      <td>0.102324</td>\n",
              "      <td>0.319881</td>\n",
              "      <td>00:01</td>\n",
              "    </tr>\n",
              "    <tr>\n",
              "      <td>34</td>\n",
              "      <td>0.010804</td>\n",
              "      <td>0.096018</td>\n",
              "      <td>0.309868</td>\n",
              "      <td>00:01</td>\n",
              "    </tr>\n",
              "    <tr>\n",
              "      <td>35</td>\n",
              "      <td>0.010932</td>\n",
              "      <td>0.104316</td>\n",
              "      <td>0.322980</td>\n",
              "      <td>00:01</td>\n",
              "    </tr>\n",
              "    <tr>\n",
              "      <td>36</td>\n",
              "      <td>0.010050</td>\n",
              "      <td>0.103881</td>\n",
              "      <td>0.322305</td>\n",
              "      <td>00:01</td>\n",
              "    </tr>\n",
              "    <tr>\n",
              "      <td>37</td>\n",
              "      <td>0.010924</td>\n",
              "      <td>0.099693</td>\n",
              "      <td>0.315741</td>\n",
              "      <td>00:01</td>\n",
              "    </tr>\n",
              "    <tr>\n",
              "      <td>38</td>\n",
              "      <td>0.009940</td>\n",
              "      <td>0.101063</td>\n",
              "      <td>0.317904</td>\n",
              "      <td>00:01</td>\n",
              "    </tr>\n",
              "    <tr>\n",
              "      <td>39</td>\n",
              "      <td>0.009591</td>\n",
              "      <td>0.104401</td>\n",
              "      <td>0.323112</td>\n",
              "      <td>00:01</td>\n",
              "    </tr>\n",
              "    <tr>\n",
              "      <td>40</td>\n",
              "      <td>0.010070</td>\n",
              "      <td>0.110279</td>\n",
              "      <td>0.332083</td>\n",
              "      <td>00:01</td>\n",
              "    </tr>\n",
              "    <tr>\n",
              "      <td>41</td>\n",
              "      <td>0.010047</td>\n",
              "      <td>0.106763</td>\n",
              "      <td>0.326747</td>\n",
              "      <td>00:01</td>\n",
              "    </tr>\n",
              "    <tr>\n",
              "      <td>42</td>\n",
              "      <td>0.009826</td>\n",
              "      <td>0.116595</td>\n",
              "      <td>0.341461</td>\n",
              "      <td>00:01</td>\n",
              "    </tr>\n",
              "    <tr>\n",
              "      <td>43</td>\n",
              "      <td>0.009088</td>\n",
              "      <td>0.103581</td>\n",
              "      <td>0.321840</td>\n",
              "      <td>00:01</td>\n",
              "    </tr>\n",
              "    <tr>\n",
              "      <td>44</td>\n",
              "      <td>0.009201</td>\n",
              "      <td>0.103872</td>\n",
              "      <td>0.322293</td>\n",
              "      <td>00:01</td>\n",
              "    </tr>\n",
              "    <tr>\n",
              "      <td>45</td>\n",
              "      <td>0.009275</td>\n",
              "      <td>0.107097</td>\n",
              "      <td>0.327256</td>\n",
              "      <td>00:01</td>\n",
              "    </tr>\n",
              "    <tr>\n",
              "      <td>46</td>\n",
              "      <td>0.008359</td>\n",
              "      <td>0.100988</td>\n",
              "      <td>0.317786</td>\n",
              "      <td>00:01</td>\n",
              "    </tr>\n",
              "    <tr>\n",
              "      <td>47</td>\n",
              "      <td>0.008987</td>\n",
              "      <td>0.100749</td>\n",
              "      <td>0.317410</td>\n",
              "      <td>00:01</td>\n",
              "    </tr>\n",
              "    <tr>\n",
              "      <td>48</td>\n",
              "      <td>0.009269</td>\n",
              "      <td>0.102496</td>\n",
              "      <td>0.320150</td>\n",
              "      <td>00:01</td>\n",
              "    </tr>\n",
              "    <tr>\n",
              "      <td>49</td>\n",
              "      <td>0.009470</td>\n",
              "      <td>0.109863</td>\n",
              "      <td>0.331456</td>\n",
              "      <td>00:01</td>\n",
              "    </tr>\n",
              "  </tbody>\n",
              "</table>"
            ]
          },
          "metadata": {}
        },
        {
          "output_type": "stream",
          "name": "stdout",
          "text": [
            "Better model found at epoch 0 with _rmse value: 0.47428011894226074.\n",
            "Better model found at epoch 1 with _rmse value: 0.4483383297920227.\n",
            "Better model found at epoch 2 with _rmse value: 0.3062669336795807.\n",
            "Better model found at epoch 3 with _rmse value: 0.24605482816696167.\n",
            "Better model found at epoch 6 with _rmse value: 0.24144500494003296.\n",
            "Getting base error\n"
          ]
        },
        {
          "output_type": "display_data",
          "data": {
            "text/plain": [
              "<IPython.core.display.HTML object>"
            ],
            "text/html": [
              "\n",
              "<style>\n",
              "    /* Turns off some styling */\n",
              "    progress {\n",
              "        /* gets rid of default border in Firefox and Opera. */\n",
              "        border: none;\n",
              "        /* Needs to be in here for Safari polyfill so background images work as expected. */\n",
              "        background-size: auto;\n",
              "    }\n",
              "    progress:not([value]), progress:not([value])::-webkit-progress-bar {\n",
              "        background: repeating-linear-gradient(45deg, #7e7e7e, #7e7e7e 10px, #5c5c5c 10px, #5c5c5c 20px);\n",
              "    }\n",
              "    .progress-bar-interrupted, .progress-bar-interrupted::-webkit-progress-bar {\n",
              "        background: #F44336;\n",
              "    }\n",
              "</style>\n"
            ]
          },
          "metadata": {}
        },
        {
          "output_type": "display_data",
          "data": {
            "text/plain": [
              "<IPython.core.display.HTML object>"
            ],
            "text/html": []
          },
          "metadata": {}
        },
        {
          "output_type": "stream",
          "name": "stdout",
          "text": [
            "Calculating Permutation Importance\n"
          ]
        },
        {
          "output_type": "display_data",
          "data": {
            "text/plain": [
              "<IPython.core.display.HTML object>"
            ],
            "text/html": [
              "\n",
              "<style>\n",
              "    /* Turns off some styling */\n",
              "    progress {\n",
              "        /* gets rid of default border in Firefox and Opera. */\n",
              "        border: none;\n",
              "        /* Needs to be in here for Safari polyfill so background images work as expected. */\n",
              "        background-size: auto;\n",
              "    }\n",
              "    progress:not([value]), progress:not([value])::-webkit-progress-bar {\n",
              "        background: repeating-linear-gradient(45deg, #7e7e7e, #7e7e7e 10px, #5c5c5c 10px, #5c5c5c 20px);\n",
              "    }\n",
              "    .progress-bar-interrupted, .progress-bar-interrupted::-webkit-progress-bar {\n",
              "        background: #F44336;\n",
              "    }\n",
              "</style>\n"
            ]
          },
          "metadata": {}
        },
        {
          "output_type": "display_data",
          "data": {
            "text/plain": [
              "<IPython.core.display.HTML object>"
            ],
            "text/html": [
              "\n",
              "    <div>\n",
              "      <progress value='21' class='' max='21' style='width:300px; height:20px; vertical-align: middle;'></progress>\n",
              "      100.00% [21/21 00:02&lt;00:00]\n",
              "    </div>\n",
              "    "
            ]
          },
          "metadata": {}
        },
        {
          "output_type": "display_data",
          "data": {
            "text/plain": [
              "<IPython.core.display.HTML object>"
            ],
            "text/html": [
              "\n",
              "<style>\n",
              "    /* Turns off some styling */\n",
              "    progress {\n",
              "        /* gets rid of default border in Firefox and Opera. */\n",
              "        border: none;\n",
              "        /* Needs to be in here for Safari polyfill so background images work as expected. */\n",
              "        background-size: auto;\n",
              "    }\n",
              "    progress:not([value]), progress:not([value])::-webkit-progress-bar {\n",
              "        background: repeating-linear-gradient(45deg, #7e7e7e, #7e7e7e 10px, #5c5c5c 10px, #5c5c5c 20px);\n",
              "    }\n",
              "    .progress-bar-interrupted, .progress-bar-interrupted::-webkit-progress-bar {\n",
              "        background: #F44336;\n",
              "    }\n",
              "</style>\n"
            ]
          },
          "metadata": {}
        },
        {
          "output_type": "display_data",
          "data": {
            "text/plain": [
              "<IPython.core.display.HTML object>"
            ],
            "text/html": []
          },
          "metadata": {}
        },
        {
          "output_type": "display_data",
          "data": {
            "text/plain": [
              "<IPython.core.display.HTML object>"
            ],
            "text/html": [
              "\n",
              "<style>\n",
              "    /* Turns off some styling */\n",
              "    progress {\n",
              "        /* gets rid of default border in Firefox and Opera. */\n",
              "        border: none;\n",
              "        /* Needs to be in here for Safari polyfill so background images work as expected. */\n",
              "        background-size: auto;\n",
              "    }\n",
              "    progress:not([value]), progress:not([value])::-webkit-progress-bar {\n",
              "        background: repeating-linear-gradient(45deg, #7e7e7e, #7e7e7e 10px, #5c5c5c 10px, #5c5c5c 20px);\n",
              "    }\n",
              "    .progress-bar-interrupted, .progress-bar-interrupted::-webkit-progress-bar {\n",
              "        background: #F44336;\n",
              "    }\n",
              "</style>\n"
            ]
          },
          "metadata": {}
        },
        {
          "output_type": "display_data",
          "data": {
            "text/plain": [
              "<IPython.core.display.HTML object>"
            ],
            "text/html": []
          },
          "metadata": {}
        },
        {
          "output_type": "display_data",
          "data": {
            "text/plain": [
              "<IPython.core.display.HTML object>"
            ],
            "text/html": [
              "\n",
              "<style>\n",
              "    /* Turns off some styling */\n",
              "    progress {\n",
              "        /* gets rid of default border in Firefox and Opera. */\n",
              "        border: none;\n",
              "        /* Needs to be in here for Safari polyfill so background images work as expected. */\n",
              "        background-size: auto;\n",
              "    }\n",
              "    progress:not([value]), progress:not([value])::-webkit-progress-bar {\n",
              "        background: repeating-linear-gradient(45deg, #7e7e7e, #7e7e7e 10px, #5c5c5c 10px, #5c5c5c 20px);\n",
              "    }\n",
              "    .progress-bar-interrupted, .progress-bar-interrupted::-webkit-progress-bar {\n",
              "        background: #F44336;\n",
              "    }\n",
              "</style>\n"
            ]
          },
          "metadata": {}
        },
        {
          "output_type": "display_data",
          "data": {
            "text/plain": [
              "<IPython.core.display.HTML object>"
            ],
            "text/html": []
          },
          "metadata": {}
        },
        {
          "output_type": "display_data",
          "data": {
            "text/plain": [
              "<IPython.core.display.HTML object>"
            ],
            "text/html": [
              "\n",
              "<style>\n",
              "    /* Turns off some styling */\n",
              "    progress {\n",
              "        /* gets rid of default border in Firefox and Opera. */\n",
              "        border: none;\n",
              "        /* Needs to be in here for Safari polyfill so background images work as expected. */\n",
              "        background-size: auto;\n",
              "    }\n",
              "    progress:not([value]), progress:not([value])::-webkit-progress-bar {\n",
              "        background: repeating-linear-gradient(45deg, #7e7e7e, #7e7e7e 10px, #5c5c5c 10px, #5c5c5c 20px);\n",
              "    }\n",
              "    .progress-bar-interrupted, .progress-bar-interrupted::-webkit-progress-bar {\n",
              "        background: #F44336;\n",
              "    }\n",
              "</style>\n"
            ]
          },
          "metadata": {}
        },
        {
          "output_type": "display_data",
          "data": {
            "text/plain": [
              "<IPython.core.display.HTML object>"
            ],
            "text/html": []
          },
          "metadata": {}
        },
        {
          "output_type": "display_data",
          "data": {
            "text/plain": [
              "<IPython.core.display.HTML object>"
            ],
            "text/html": [
              "\n",
              "<style>\n",
              "    /* Turns off some styling */\n",
              "    progress {\n",
              "        /* gets rid of default border in Firefox and Opera. */\n",
              "        border: none;\n",
              "        /* Needs to be in here for Safari polyfill so background images work as expected. */\n",
              "        background-size: auto;\n",
              "    }\n",
              "    progress:not([value]), progress:not([value])::-webkit-progress-bar {\n",
              "        background: repeating-linear-gradient(45deg, #7e7e7e, #7e7e7e 10px, #5c5c5c 10px, #5c5c5c 20px);\n",
              "    }\n",
              "    .progress-bar-interrupted, .progress-bar-interrupted::-webkit-progress-bar {\n",
              "        background: #F44336;\n",
              "    }\n",
              "</style>\n"
            ]
          },
          "metadata": {}
        },
        {
          "output_type": "display_data",
          "data": {
            "text/plain": [
              "<IPython.core.display.HTML object>"
            ],
            "text/html": []
          },
          "metadata": {}
        },
        {
          "output_type": "display_data",
          "data": {
            "text/plain": [
              "<IPython.core.display.HTML object>"
            ],
            "text/html": [
              "\n",
              "<style>\n",
              "    /* Turns off some styling */\n",
              "    progress {\n",
              "        /* gets rid of default border in Firefox and Opera. */\n",
              "        border: none;\n",
              "        /* Needs to be in here for Safari polyfill so background images work as expected. */\n",
              "        background-size: auto;\n",
              "    }\n",
              "    progress:not([value]), progress:not([value])::-webkit-progress-bar {\n",
              "        background: repeating-linear-gradient(45deg, #7e7e7e, #7e7e7e 10px, #5c5c5c 10px, #5c5c5c 20px);\n",
              "    }\n",
              "    .progress-bar-interrupted, .progress-bar-interrupted::-webkit-progress-bar {\n",
              "        background: #F44336;\n",
              "    }\n",
              "</style>\n"
            ]
          },
          "metadata": {}
        },
        {
          "output_type": "display_data",
          "data": {
            "text/plain": [
              "<IPython.core.display.HTML object>"
            ],
            "text/html": []
          },
          "metadata": {}
        },
        {
          "output_type": "display_data",
          "data": {
            "text/plain": [
              "<IPython.core.display.HTML object>"
            ],
            "text/html": [
              "\n",
              "<style>\n",
              "    /* Turns off some styling */\n",
              "    progress {\n",
              "        /* gets rid of default border in Firefox and Opera. */\n",
              "        border: none;\n",
              "        /* Needs to be in here for Safari polyfill so background images work as expected. */\n",
              "        background-size: auto;\n",
              "    }\n",
              "    progress:not([value]), progress:not([value])::-webkit-progress-bar {\n",
              "        background: repeating-linear-gradient(45deg, #7e7e7e, #7e7e7e 10px, #5c5c5c 10px, #5c5c5c 20px);\n",
              "    }\n",
              "    .progress-bar-interrupted, .progress-bar-interrupted::-webkit-progress-bar {\n",
              "        background: #F44336;\n",
              "    }\n",
              "</style>\n"
            ]
          },
          "metadata": {}
        },
        {
          "output_type": "display_data",
          "data": {
            "text/plain": [
              "<IPython.core.display.HTML object>"
            ],
            "text/html": []
          },
          "metadata": {}
        },
        {
          "output_type": "display_data",
          "data": {
            "text/plain": [
              "<IPython.core.display.HTML object>"
            ],
            "text/html": [
              "\n",
              "<style>\n",
              "    /* Turns off some styling */\n",
              "    progress {\n",
              "        /* gets rid of default border in Firefox and Opera. */\n",
              "        border: none;\n",
              "        /* Needs to be in here for Safari polyfill so background images work as expected. */\n",
              "        background-size: auto;\n",
              "    }\n",
              "    progress:not([value]), progress:not([value])::-webkit-progress-bar {\n",
              "        background: repeating-linear-gradient(45deg, #7e7e7e, #7e7e7e 10px, #5c5c5c 10px, #5c5c5c 20px);\n",
              "    }\n",
              "    .progress-bar-interrupted, .progress-bar-interrupted::-webkit-progress-bar {\n",
              "        background: #F44336;\n",
              "    }\n",
              "</style>\n"
            ]
          },
          "metadata": {}
        },
        {
          "output_type": "display_data",
          "data": {
            "text/plain": [
              "<IPython.core.display.HTML object>"
            ],
            "text/html": []
          },
          "metadata": {}
        },
        {
          "output_type": "display_data",
          "data": {
            "text/plain": [
              "<IPython.core.display.HTML object>"
            ],
            "text/html": [
              "\n",
              "<style>\n",
              "    /* Turns off some styling */\n",
              "    progress {\n",
              "        /* gets rid of default border in Firefox and Opera. */\n",
              "        border: none;\n",
              "        /* Needs to be in here for Safari polyfill so background images work as expected. */\n",
              "        background-size: auto;\n",
              "    }\n",
              "    progress:not([value]), progress:not([value])::-webkit-progress-bar {\n",
              "        background: repeating-linear-gradient(45deg, #7e7e7e, #7e7e7e 10px, #5c5c5c 10px, #5c5c5c 20px);\n",
              "    }\n",
              "    .progress-bar-interrupted, .progress-bar-interrupted::-webkit-progress-bar {\n",
              "        background: #F44336;\n",
              "    }\n",
              "</style>\n"
            ]
          },
          "metadata": {}
        },
        {
          "output_type": "display_data",
          "data": {
            "text/plain": [
              "<IPython.core.display.HTML object>"
            ],
            "text/html": []
          },
          "metadata": {}
        },
        {
          "output_type": "display_data",
          "data": {
            "text/plain": [
              "<IPython.core.display.HTML object>"
            ],
            "text/html": [
              "\n",
              "<style>\n",
              "    /* Turns off some styling */\n",
              "    progress {\n",
              "        /* gets rid of default border in Firefox and Opera. */\n",
              "        border: none;\n",
              "        /* Needs to be in here for Safari polyfill so background images work as expected. */\n",
              "        background-size: auto;\n",
              "    }\n",
              "    progress:not([value]), progress:not([value])::-webkit-progress-bar {\n",
              "        background: repeating-linear-gradient(45deg, #7e7e7e, #7e7e7e 10px, #5c5c5c 10px, #5c5c5c 20px);\n",
              "    }\n",
              "    .progress-bar-interrupted, .progress-bar-interrupted::-webkit-progress-bar {\n",
              "        background: #F44336;\n",
              "    }\n",
              "</style>\n"
            ]
          },
          "metadata": {}
        },
        {
          "output_type": "display_data",
          "data": {
            "text/plain": [
              "<IPython.core.display.HTML object>"
            ],
            "text/html": []
          },
          "metadata": {}
        },
        {
          "output_type": "display_data",
          "data": {
            "text/plain": [
              "<IPython.core.display.HTML object>"
            ],
            "text/html": [
              "\n",
              "<style>\n",
              "    /* Turns off some styling */\n",
              "    progress {\n",
              "        /* gets rid of default border in Firefox and Opera. */\n",
              "        border: none;\n",
              "        /* Needs to be in here for Safari polyfill so background images work as expected. */\n",
              "        background-size: auto;\n",
              "    }\n",
              "    progress:not([value]), progress:not([value])::-webkit-progress-bar {\n",
              "        background: repeating-linear-gradient(45deg, #7e7e7e, #7e7e7e 10px, #5c5c5c 10px, #5c5c5c 20px);\n",
              "    }\n",
              "    .progress-bar-interrupted, .progress-bar-interrupted::-webkit-progress-bar {\n",
              "        background: #F44336;\n",
              "    }\n",
              "</style>\n"
            ]
          },
          "metadata": {}
        },
        {
          "output_type": "display_data",
          "data": {
            "text/plain": [
              "<IPython.core.display.HTML object>"
            ],
            "text/html": []
          },
          "metadata": {}
        },
        {
          "output_type": "display_data",
          "data": {
            "text/plain": [
              "<IPython.core.display.HTML object>"
            ],
            "text/html": [
              "\n",
              "<style>\n",
              "    /* Turns off some styling */\n",
              "    progress {\n",
              "        /* gets rid of default border in Firefox and Opera. */\n",
              "        border: none;\n",
              "        /* Needs to be in here for Safari polyfill so background images work as expected. */\n",
              "        background-size: auto;\n",
              "    }\n",
              "    progress:not([value]), progress:not([value])::-webkit-progress-bar {\n",
              "        background: repeating-linear-gradient(45deg, #7e7e7e, #7e7e7e 10px, #5c5c5c 10px, #5c5c5c 20px);\n",
              "    }\n",
              "    .progress-bar-interrupted, .progress-bar-interrupted::-webkit-progress-bar {\n",
              "        background: #F44336;\n",
              "    }\n",
              "</style>\n"
            ]
          },
          "metadata": {}
        },
        {
          "output_type": "display_data",
          "data": {
            "text/plain": [
              "<IPython.core.display.HTML object>"
            ],
            "text/html": []
          },
          "metadata": {}
        },
        {
          "output_type": "display_data",
          "data": {
            "text/plain": [
              "<IPython.core.display.HTML object>"
            ],
            "text/html": [
              "\n",
              "<style>\n",
              "    /* Turns off some styling */\n",
              "    progress {\n",
              "        /* gets rid of default border in Firefox and Opera. */\n",
              "        border: none;\n",
              "        /* Needs to be in here for Safari polyfill so background images work as expected. */\n",
              "        background-size: auto;\n",
              "    }\n",
              "    progress:not([value]), progress:not([value])::-webkit-progress-bar {\n",
              "        background: repeating-linear-gradient(45deg, #7e7e7e, #7e7e7e 10px, #5c5c5c 10px, #5c5c5c 20px);\n",
              "    }\n",
              "    .progress-bar-interrupted, .progress-bar-interrupted::-webkit-progress-bar {\n",
              "        background: #F44336;\n",
              "    }\n",
              "</style>\n"
            ]
          },
          "metadata": {}
        },
        {
          "output_type": "display_data",
          "data": {
            "text/plain": [
              "<IPython.core.display.HTML object>"
            ],
            "text/html": []
          },
          "metadata": {}
        },
        {
          "output_type": "display_data",
          "data": {
            "text/plain": [
              "<IPython.core.display.HTML object>"
            ],
            "text/html": [
              "\n",
              "<style>\n",
              "    /* Turns off some styling */\n",
              "    progress {\n",
              "        /* gets rid of default border in Firefox and Opera. */\n",
              "        border: none;\n",
              "        /* Needs to be in here for Safari polyfill so background images work as expected. */\n",
              "        background-size: auto;\n",
              "    }\n",
              "    progress:not([value]), progress:not([value])::-webkit-progress-bar {\n",
              "        background: repeating-linear-gradient(45deg, #7e7e7e, #7e7e7e 10px, #5c5c5c 10px, #5c5c5c 20px);\n",
              "    }\n",
              "    .progress-bar-interrupted, .progress-bar-interrupted::-webkit-progress-bar {\n",
              "        background: #F44336;\n",
              "    }\n",
              "</style>\n"
            ]
          },
          "metadata": {}
        },
        {
          "output_type": "display_data",
          "data": {
            "text/plain": [
              "<IPython.core.display.HTML object>"
            ],
            "text/html": []
          },
          "metadata": {}
        },
        {
          "output_type": "display_data",
          "data": {
            "text/plain": [
              "<IPython.core.display.HTML object>"
            ],
            "text/html": [
              "\n",
              "<style>\n",
              "    /* Turns off some styling */\n",
              "    progress {\n",
              "        /* gets rid of default border in Firefox and Opera. */\n",
              "        border: none;\n",
              "        /* Needs to be in here for Safari polyfill so background images work as expected. */\n",
              "        background-size: auto;\n",
              "    }\n",
              "    progress:not([value]), progress:not([value])::-webkit-progress-bar {\n",
              "        background: repeating-linear-gradient(45deg, #7e7e7e, #7e7e7e 10px, #5c5c5c 10px, #5c5c5c 20px);\n",
              "    }\n",
              "    .progress-bar-interrupted, .progress-bar-interrupted::-webkit-progress-bar {\n",
              "        background: #F44336;\n",
              "    }\n",
              "</style>\n"
            ]
          },
          "metadata": {}
        },
        {
          "output_type": "display_data",
          "data": {
            "text/plain": [
              "<IPython.core.display.HTML object>"
            ],
            "text/html": []
          },
          "metadata": {}
        },
        {
          "output_type": "display_data",
          "data": {
            "text/plain": [
              "<IPython.core.display.HTML object>"
            ],
            "text/html": [
              "\n",
              "<style>\n",
              "    /* Turns off some styling */\n",
              "    progress {\n",
              "        /* gets rid of default border in Firefox and Opera. */\n",
              "        border: none;\n",
              "        /* Needs to be in here for Safari polyfill so background images work as expected. */\n",
              "        background-size: auto;\n",
              "    }\n",
              "    progress:not([value]), progress:not([value])::-webkit-progress-bar {\n",
              "        background: repeating-linear-gradient(45deg, #7e7e7e, #7e7e7e 10px, #5c5c5c 10px, #5c5c5c 20px);\n",
              "    }\n",
              "    .progress-bar-interrupted, .progress-bar-interrupted::-webkit-progress-bar {\n",
              "        background: #F44336;\n",
              "    }\n",
              "</style>\n"
            ]
          },
          "metadata": {}
        },
        {
          "output_type": "display_data",
          "data": {
            "text/plain": [
              "<IPython.core.display.HTML object>"
            ],
            "text/html": []
          },
          "metadata": {}
        },
        {
          "output_type": "display_data",
          "data": {
            "text/plain": [
              "<IPython.core.display.HTML object>"
            ],
            "text/html": [
              "\n",
              "<style>\n",
              "    /* Turns off some styling */\n",
              "    progress {\n",
              "        /* gets rid of default border in Firefox and Opera. */\n",
              "        border: none;\n",
              "        /* Needs to be in here for Safari polyfill so background images work as expected. */\n",
              "        background-size: auto;\n",
              "    }\n",
              "    progress:not([value]), progress:not([value])::-webkit-progress-bar {\n",
              "        background: repeating-linear-gradient(45deg, #7e7e7e, #7e7e7e 10px, #5c5c5c 10px, #5c5c5c 20px);\n",
              "    }\n",
              "    .progress-bar-interrupted, .progress-bar-interrupted::-webkit-progress-bar {\n",
              "        background: #F44336;\n",
              "    }\n",
              "</style>\n"
            ]
          },
          "metadata": {}
        },
        {
          "output_type": "display_data",
          "data": {
            "text/plain": [
              "<IPython.core.display.HTML object>"
            ],
            "text/html": []
          },
          "metadata": {}
        },
        {
          "output_type": "display_data",
          "data": {
            "text/plain": [
              "<IPython.core.display.HTML object>"
            ],
            "text/html": [
              "\n",
              "<style>\n",
              "    /* Turns off some styling */\n",
              "    progress {\n",
              "        /* gets rid of default border in Firefox and Opera. */\n",
              "        border: none;\n",
              "        /* Needs to be in here for Safari polyfill so background images work as expected. */\n",
              "        background-size: auto;\n",
              "    }\n",
              "    progress:not([value]), progress:not([value])::-webkit-progress-bar {\n",
              "        background: repeating-linear-gradient(45deg, #7e7e7e, #7e7e7e 10px, #5c5c5c 10px, #5c5c5c 20px);\n",
              "    }\n",
              "    .progress-bar-interrupted, .progress-bar-interrupted::-webkit-progress-bar {\n",
              "        background: #F44336;\n",
              "    }\n",
              "</style>\n"
            ]
          },
          "metadata": {}
        },
        {
          "output_type": "display_data",
          "data": {
            "text/plain": [
              "<IPython.core.display.HTML object>"
            ],
            "text/html": []
          },
          "metadata": {}
        },
        {
          "output_type": "display_data",
          "data": {
            "text/plain": [
              "<IPython.core.display.HTML object>"
            ],
            "text/html": [
              "\n",
              "<style>\n",
              "    /* Turns off some styling */\n",
              "    progress {\n",
              "        /* gets rid of default border in Firefox and Opera. */\n",
              "        border: none;\n",
              "        /* Needs to be in here for Safari polyfill so background images work as expected. */\n",
              "        background-size: auto;\n",
              "    }\n",
              "    progress:not([value]), progress:not([value])::-webkit-progress-bar {\n",
              "        background: repeating-linear-gradient(45deg, #7e7e7e, #7e7e7e 10px, #5c5c5c 10px, #5c5c5c 20px);\n",
              "    }\n",
              "    .progress-bar-interrupted, .progress-bar-interrupted::-webkit-progress-bar {\n",
              "        background: #F44336;\n",
              "    }\n",
              "</style>\n"
            ]
          },
          "metadata": {}
        },
        {
          "output_type": "display_data",
          "data": {
            "text/plain": [
              "<IPython.core.display.HTML object>"
            ],
            "text/html": []
          },
          "metadata": {}
        },
        {
          "output_type": "display_data",
          "data": {
            "text/plain": [
              "<IPython.core.display.HTML object>"
            ],
            "text/html": [
              "\n",
              "<style>\n",
              "    /* Turns off some styling */\n",
              "    progress {\n",
              "        /* gets rid of default border in Firefox and Opera. */\n",
              "        border: none;\n",
              "        /* Needs to be in here for Safari polyfill so background images work as expected. */\n",
              "        background-size: auto;\n",
              "    }\n",
              "    progress:not([value]), progress:not([value])::-webkit-progress-bar {\n",
              "        background: repeating-linear-gradient(45deg, #7e7e7e, #7e7e7e 10px, #5c5c5c 10px, #5c5c5c 20px);\n",
              "    }\n",
              "    .progress-bar-interrupted, .progress-bar-interrupted::-webkit-progress-bar {\n",
              "        background: #F44336;\n",
              "    }\n",
              "</style>\n"
            ]
          },
          "metadata": {}
        },
        {
          "output_type": "display_data",
          "data": {
            "text/plain": [
              "<IPython.core.display.HTML object>"
            ],
            "text/html": []
          },
          "metadata": {}
        },
        {
          "output_type": "display_data",
          "data": {
            "text/plain": [
              "<IPython.core.display.HTML object>"
            ],
            "text/html": [
              "\n",
              "<style>\n",
              "    /* Turns off some styling */\n",
              "    progress {\n",
              "        /* gets rid of default border in Firefox and Opera. */\n",
              "        border: none;\n",
              "        /* Needs to be in here for Safari polyfill so background images work as expected. */\n",
              "        background-size: auto;\n",
              "    }\n",
              "    progress:not([value]), progress:not([value])::-webkit-progress-bar {\n",
              "        background: repeating-linear-gradient(45deg, #7e7e7e, #7e7e7e 10px, #5c5c5c 10px, #5c5c5c 20px);\n",
              "    }\n",
              "    .progress-bar-interrupted, .progress-bar-interrupted::-webkit-progress-bar {\n",
              "        background: #F44336;\n",
              "    }\n",
              "</style>\n"
            ]
          },
          "metadata": {}
        },
        {
          "output_type": "display_data",
          "data": {
            "text/plain": [
              "<IPython.core.display.HTML object>"
            ],
            "text/html": []
          },
          "metadata": {}
        },
        {
          "output_type": "display_data",
          "data": {
            "text/plain": [
              "<IPython.core.display.HTML object>"
            ],
            "text/html": [
              "\n",
              "<style>\n",
              "    /* Turns off some styling */\n",
              "    progress {\n",
              "        /* gets rid of default border in Firefox and Opera. */\n",
              "        border: none;\n",
              "        /* Needs to be in here for Safari polyfill so background images work as expected. */\n",
              "        background-size: auto;\n",
              "    }\n",
              "    progress:not([value]), progress:not([value])::-webkit-progress-bar {\n",
              "        background: repeating-linear-gradient(45deg, #7e7e7e, #7e7e7e 10px, #5c5c5c 10px, #5c5c5c 20px);\n",
              "    }\n",
              "    .progress-bar-interrupted, .progress-bar-interrupted::-webkit-progress-bar {\n",
              "        background: #F44336;\n",
              "    }\n",
              "</style>\n"
            ]
          },
          "metadata": {}
        },
        {
          "output_type": "display_data",
          "data": {
            "text/plain": [
              "<IPython.core.display.HTML object>"
            ],
            "text/html": []
          },
          "metadata": {}
        },
        {
          "output_type": "display_data",
          "data": {
            "text/plain": [
              "<IPython.core.display.HTML object>"
            ],
            "text/html": [
              "\n",
              "<style>\n",
              "    /* Turns off some styling */\n",
              "    progress {\n",
              "        /* gets rid of default border in Firefox and Opera. */\n",
              "        border: none;\n",
              "        /* Needs to be in here for Safari polyfill so background images work as expected. */\n",
              "        background-size: auto;\n",
              "    }\n",
              "    progress:not([value]), progress:not([value])::-webkit-progress-bar {\n",
              "        background: repeating-linear-gradient(45deg, #7e7e7e, #7e7e7e 10px, #5c5c5c 10px, #5c5c5c 20px);\n",
              "    }\n",
              "    .progress-bar-interrupted, .progress-bar-interrupted::-webkit-progress-bar {\n",
              "        background: #F44336;\n",
              "    }\n",
              "</style>\n"
            ]
          },
          "metadata": {}
        },
        {
          "output_type": "display_data",
          "data": {
            "text/plain": [
              "<IPython.core.display.HTML object>"
            ],
            "text/html": []
          },
          "metadata": {}
        },
        {
          "output_type": "execute_result",
          "data": {
            "text/plain": [
              "(#2) [0.058295682072639465,0.24144500494003296]"
            ]
          },
          "metadata": {},
          "execution_count": 28
        },
        {
          "output_type": "display_data",
          "data": {
            "text/plain": [
              "<Figure size 432x288 with 1 Axes>"
            ],
            "image/png": "[encoded data removed]"
          },
          "metadata": {
            "needs_background": "light"
          }
        }
      ]
    },
    {
      "cell_type": "code",
      "source": [
        "path='/content/gdrive/MyDrive/Datasets/Kaggle-Datasets/tabular-playground-series-jul-2021/Project_fastai/models/nnlearner'\n",
        "my_learn=NN(to)\n",
        "model=my_learn.learn.load(path)\n"
      ],
      "metadata": {
        "id": "c8o-ZijNOXFm"
      },
      "execution_count": null,
      "outputs": []
    },
    {
      "cell_type": "code",
      "source": [
        "model.validate()"
      ],
      "metadata": {
        "colab": {
          "base_uri": "https://localhost:8080/",
          "height": 34
        },
        "id": "6YV5Z0ATvqib",
        "outputId": "3efe02c5-b9fa-46c8-dbd6-3e49b064d873"
      },
      "execution_count": null,
      "outputs": [
        {
          "output_type": "display_data",
          "data": {
            "text/plain": [
              "<IPython.core.display.HTML object>"
            ],
            "text/html": [
              "\n",
              "<style>\n",
              "    /* Turns off some styling */\n",
              "    progress {\n",
              "        /* gets rid of default border in Firefox and Opera. */\n",
              "        border: none;\n",
              "        /* Needs to be in here for Safari polyfill so background images work as expected. */\n",
              "        background-size: auto;\n",
              "    }\n",
              "    progress:not([value]), progress:not([value])::-webkit-progress-bar {\n",
              "        background: repeating-linear-gradient(45deg, #7e7e7e, #7e7e7e 10px, #5c5c5c 10px, #5c5c5c 20px);\n",
              "    }\n",
              "    .progress-bar-interrupted, .progress-bar-interrupted::-webkit-progress-bar {\n",
              "        background: #F44336;\n",
              "    }\n",
              "</style>\n"
            ]
          },
          "metadata": {}
        },
        {
          "output_type": "display_data",
          "data": {
            "text/plain": [
              "<IPython.core.display.HTML object>"
            ],
            "text/html": []
          },
          "metadata": {}
        },
        {
          "output_type": "execute_result",
          "data": {
            "text/plain": [
              "(#2) [0.058295682072639465,0.24144500494003296]"
            ]
          },
          "metadata": {},
          "execution_count": 30
        }
      ]
    },
    {
      "cell_type": "markdown",
      "source": [
        "## Ensembling"
      ],
      "metadata": {
        "id": "fKG0PVQQG9WX"
      }
    },
    {
      "cell_type": "code",
      "source": [
        "forest_preds.shape,xgb_preds.shape,NN_preds.squeeze().numpy().shape"
      ],
      "metadata": {
        "colab": {
          "base_uri": "https://localhost:8080/"
        },
        "id": "cY0R2QeaDo9o",
        "outputId": "0fc9f786-c010-414b-d5bd-3fa6ee9b1d81"
      },
      "execution_count": null,
      "outputs": [
        {
          "output_type": "execute_result",
          "data": {
            "text/plain": [
              "((745,), (745,), (745,))"
            ]
          },
          "metadata": {},
          "execution_count": 42
        }
      ]
    },
    {
      "cell_type": "code",
      "source": [
        "avgs=(forest_preds+xgb_preds)/2\n",
        "r_mse(avgs,valid_y)"
      ],
      "metadata": {
        "colab": {
          "base_uri": "https://localhost:8080/"
        },
        "id": "m-TZDknrE-9l",
        "outputId": "d45d7c08-62bb-4766-9b8c-655aa8e40094"
      },
      "execution_count": null,
      "outputs": [
        {
          "output_type": "execute_result",
          "data": {
            "text/plain": [
              "0.305166"
            ]
          },
          "metadata": {},
          "execution_count": 45
        }
      ]
    },
    {
      "cell_type": "code",
      "source": [
        "avgs=(forest_preds+xgb_preds+NN_preds.squeeze().numpy())/3\n",
        "r_mse(avgs,valid_y)"
      ],
      "metadata": {
        "colab": {
          "base_uri": "https://localhost:8080/"
        },
        "id": "mcV_78MwHEL5",
        "outputId": "3359c756-39b7-4fc1-e3c4-68a149e7b6cc"
      },
      "execution_count": 46,
      "outputs": [
        {
          "output_type": "execute_result",
          "data": {
            "text/plain": [
              "0.266393"
            ]
          },
          "metadata": {},
          "execution_count": 46
        }
      ]
    }
  ]
}